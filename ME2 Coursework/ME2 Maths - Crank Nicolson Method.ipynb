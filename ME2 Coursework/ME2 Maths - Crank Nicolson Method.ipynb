{
 "cells": [
  {
   "cell_type": "markdown",
   "metadata": {},
   "source": [
    "# Crank Nicolson Method\n",
    "\n",
    "To solve\n",
    "\n",
    "\\begin{equation} \n",
    "\\frac{\\partial^2 u}{\\partial x^2} = \\frac{\\partial u}{\\partial t}, \\quad u_x(0,t) = 0, \\, u(x,0)=1, 0<x<1, \\, u(1,t) = 0, t\\geq 0\n",
    "\\end{equation}"
   ]
  },
  {
   "cell_type": "code",
   "execution_count": 19,
   "metadata": {},
   "outputs": [
    {
     "name": "stdout",
     "output_type": "stream",
     "text": [
      "Using matplotlib backend: Qt5Agg\n",
      "Populating the interactive namespace from numpy and matplotlib\n"
     ]
    }
   ],
   "source": [
    "%pylab"
   ]
  },
  {
   "cell_type": "markdown",
   "metadata": {},
   "source": [
    "## Step 1: Create Grid Points"
   ]
  },
  {
   "cell_type": "code",
   "execution_count": 20,
   "metadata": {},
   "outputs": [],
   "source": [
    "# How many rows do we need?\n",
    "nt = 51\n",
    "\n",
    "# Distance between rows\n",
    "dt = (2-0)/(nt-1)\n",
    "\n",
    "# t_Positions\n",
    "t_grid = np.linspace(0,2,nt)"
   ]
  },
  {
   "cell_type": "code",
   "execution_count": 21,
   "metadata": {},
   "outputs": [],
   "source": [
    "# How many columns (including phantom columns) do we need?\n",
    "nx = 5+1\n",
    "\n",
    "# Distance between columns\n",
    "dx = (1-0)/(nx-1)\n",
    "\n",
    "# x_Positions\n",
    "x_grid = np.arange(-dx,1+dx,dx)"
   ]
  },
  {
   "cell_type": "markdown",
   "metadata": {},
   "source": [
    "## Step 2: Initial and Boundary Conditions"
   ]
  },
  {
   "cell_type": "code",
   "execution_count": 22,
   "metadata": {},
   "outputs": [],
   "source": [
    "# Create Matrices of values\n",
    "uval = np.zeros((nt,nx))"
   ]
  },
  {
   "cell_type": "code",
   "execution_count": 23,
   "metadata": {},
   "outputs": [],
   "source": [
    "# Initial Condition - u(x,0) = 1\n",
    "uval[0,np.arange(0,nx-1)]=1"
   ]
  },
  {
   "cell_type": "markdown",
   "metadata": {},
   "source": [
    "# Step 3: Loop"
   ]
  },
  {
   "cell_type": "code",
   "execution_count": 24,
   "metadata": {},
   "outputs": [],
   "source": [
    "# [A]{x} = {b}, solve for the x values"
   ]
  },
  {
   "cell_type": "code",
   "execution_count": 25,
   "metadata": {},
   "outputs": [],
   "source": [
    "# Matrix A\n",
    "A = np.array([[1, 0, -1, 0, 0], [-1, 4, -1, 0, 0], [0, -1, 4, -1, 0], [0, 0, -1, 4, -1], [0, 0, 0, -1, 4]])"
   ]
  },
  {
   "cell_type": "code",
   "execution_count": 29,
   "metadata": {},
   "outputs": [],
   "source": [
    "# Vector b\n",
    "b = np.array([0, uval[0][1+1] + uval[0][-1+1], uval[0][2+1] + uval[0][0+1], uval[0][3+1] + uval[0][1+1], uval[0][4+1] + uval[0][2+1] + uval[0][4+1]])"
   ]
  },
  {
   "cell_type": "code",
   "execution_count": 37,
   "metadata": {
    "scrolled": true
   },
   "outputs": [],
   "source": [
    "#Solve the matrix for the values and then input them into the matrix\n",
    "for j in range(0, nt-1):\n",
    "    x = np.linalg.solve(A, b)\n",
    "    uval[j+1][:nx-1] = x[:]"
   ]
  }
 ],
 "metadata": {
  "kernelspec": {
   "display_name": "Python 3",
   "language": "python",
   "name": "python3"
  },
  "language_info": {
   "codemirror_mode": {
    "name": "ipython",
    "version": 3
   },
   "file_extension": ".py",
   "mimetype": "text/x-python",
   "name": "python",
   "nbconvert_exporter": "python",
   "pygments_lexer": "ipython3",
   "version": "3.7.4"
  }
 },
 "nbformat": 4,
 "nbformat_minor": 2
}
