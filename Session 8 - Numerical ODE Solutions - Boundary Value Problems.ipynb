{
 "cells": [
  {
   "cell_type": "markdown",
   "metadata": {},
   "source": [
    "## Session 8 - Numerical ODE Solutions - BVPs"
   ]
  },
  {
   "cell_type": "markdown",
   "metadata": {},
   "source": [
    "### Solve a second order boundary value ODE\n",
    "\\begin{equation}\n",
    "\\frac{d^2y}{dx^2} + f(x)\\frac{dy}{dx} + g(x)y = p(x),\\ a<x<b\n",
    "\\end{equation}"
   ]
  },
  {
   "cell_type": "markdown",
   "metadata": {},
   "source": [
    "### Task 1: Direct Methods"
   ]
  },
  {
   "cell_type": "code",
   "execution_count": 1,
   "metadata": {},
   "outputs": [
    {
     "name": "stdout",
     "output_type": "stream",
     "text": [
      "Using matplotlib backend: Qt5Agg\n",
      "Populating the interactive namespace from numpy and matplotlib\n"
     ]
    }
   ],
   "source": [
    "%pylab"
   ]
  },
  {
   "cell_type": "code",
   "execution_count": 2,
   "metadata": {},
   "outputs": [],
   "source": [
    "# define the functions f(x), g(x) and p(x)\n",
    "def myfunc(x):\n",
    "    f = 2*x\n",
    "    g = 2\n",
    "    p = np.cos(3*x)\n",
    "    return (f, g, p)"
   ]
  },
  {
   "cell_type": "markdown",
   "metadata": {},
   "source": [
    "#### Solve the system of simultaneous equations to find values of y, [A]{y} = {b}"
   ]
  },
  {
   "cell_type": "code",
   "execution_count": 3,
   "metadata": {},
   "outputs": [],
   "source": [
    "# write the ODE solver\n",
    "def myodebc1(xa, xb, ya, yb, N):\n",
    "    x = np.linspace(xa, xb, N+1) # the range of x\n",
    "    h = x[1] - x[0] # the interval (easily done in a computer)\n",
    "    \n",
    "    A = np.zeros((N+1, N+1)) # formulate an (N+1)x(N+1) array with zeroes (same as np.ndarray((rows, columns))\n",
    "    b = np.zeros(N+1)\n",
    "    \n",
    "    #set boundary conditions\n",
    "    A[0, 0] = 1\n",
    "    b[0] = ya\n",
    "    A[N, N] = 1\n",
    "    b[N] = yb\n",
    "    \n",
    "    for i in range(1, N): # up to index N-1\n",
    "        (f, g, p) = myfunc(x[i]) # receives values of f, g, p for x value at i\n",
    "        A[i, i-1] = 1/h**2 - f/(2*h)\n",
    "        A[i, i] = g - 2/h**2\n",
    "        A[i, i+1] = 1/h**2 + f/(2*h)\n",
    "        b[i] = p\n",
    "    \n",
    "    y = np.linalg.solve(A, b)\n",
    "    return A, y, b, x"
   ]
  },
  {
   "cell_type": "code",
   "execution_count": 4,
   "metadata": {},
   "outputs": [
    {
     "data": {
      "text/plain": [
       "[<matplotlib.lines.Line2D at 0x2099caa77f0>]"
      ]
     },
     "execution_count": 4,
     "metadata": {},
     "output_type": "execute_result"
    },
    {
     "data": {
      "image/png": "[encoded data removed]",
      "text/plain": [
       "<Figure size 432x288 with 1 Axes>"
      ]
     },
     "metadata": {
      "needs_background": "light"
     },
     "output_type": "display_data"
    }
   ],
   "source": [
    "xa = 0\n",
    "xb = np.pi\n",
    "ya = 1.5\n",
    "yb = 0\n",
    "N = 100 # for N intervals, there are N+1 values\n",
    "(A, y, b, x) = myodebc1(xa, xb, ya, yb, N)\n",
    "\n",
    "# plot y against x\n",
    "plt.plot(x, y)"
   ]
  },
  {
   "cell_type": "markdown",
   "metadata": {},
   "source": [
    "### Task 2: Iterative Methods"
   ]
  },
  {
   "cell_type": "code",
   "execution_count": 5,
   "metadata": {},
   "outputs": [],
   "source": [
    "def JacobiSolver(xa, xb, ya, yb, N, tol_D):\n",
    "    x = np.linspace(xa, xb, N+1)\n",
    "    y = np.zeros(len(x))\n",
    "    h = x[1] - x[0]\n",
    "    \n",
    "    A = np.zeros((N+1, N+1)) # formulate an (N+1)x(N+1) array with zeroes (same as np.ndarray((rows, columns))\n",
    "    b = np.zeros(N+1)\n",
    "    \n",
    "    A[0, 0] = 1\n",
    "    b[0] = ya\n",
    "    A[N, N] = 1\n",
    "    b[N] = yb\n",
    "    \n",
    "    # formulating the matrix\n",
    "    for i in range(1, N): # up to index N-1\n",
    "        (f, g, p) = myfunc(x[i]) # receives values of f, g, p for x value at i\n",
    "        A[i, i-1] = 1/h**2 - f/(2*h)\n",
    "        A[i, i] = g - 2/h**2\n",
    "        A[i, i+1] = 1/h**2 + f/(2*h)\n",
    "        b[i] = p\n",
    "    \n",
    "    # coding the Jacobi matrix solver\n",
    "    error = 10*tol_D\n",
    "    while error >= tol_D:\n",
    "        for k in range(1, N):\n",
    "            y[k] = (b[k-1] - np.dot(A[k-1], y) + A[k-1,k-1]*y[k-1])/A[k-1, k-1]\n",
    "        error = np.linalg.norm(y - np.max(y))\n",
    "    return y"
   ]
  },
  {
   "cell_type": "code",
   "execution_count": 6,
   "metadata": {},
   "outputs": [
    {
     "ename": "KeyboardInterrupt",
     "evalue": "",
     "output_type": "error",
     "traceback": [
      "\u001b[1;31m---------------------------------------------------------------------------\u001b[0m",
      "\u001b[1;31mKeyboardInterrupt\u001b[0m                         Traceback (most recent call last)",
      "\u001b[1;32m<ipython-input-6-5177a729af83>\u001b[0m in \u001b[0;36m<module>\u001b[1;34m\u001b[0m\n\u001b[0;32m      5\u001b[0m \u001b[0mN\u001b[0m \u001b[1;33m=\u001b[0m \u001b[1;36m10\u001b[0m \u001b[1;31m# for N intervals, there are N+1 values\u001b[0m\u001b[1;33m\u001b[0m\u001b[1;33m\u001b[0m\u001b[0m\n\u001b[0;32m      6\u001b[0m \u001b[0mtol_D\u001b[0m \u001b[1;33m=\u001b[0m \u001b[1;36m2\u001b[0m\u001b[1;33m\u001b[0m\u001b[1;33m\u001b[0m\u001b[0m\n\u001b[1;32m----> 7\u001b[1;33m \u001b[0mJacobiSolver\u001b[0m\u001b[1;33m(\u001b[0m\u001b[0mxa\u001b[0m\u001b[1;33m,\u001b[0m \u001b[0mxb\u001b[0m\u001b[1;33m,\u001b[0m \u001b[0mya\u001b[0m\u001b[1;33m,\u001b[0m \u001b[0myb\u001b[0m\u001b[1;33m,\u001b[0m \u001b[0mN\u001b[0m\u001b[1;33m,\u001b[0m \u001b[0mtol_D\u001b[0m\u001b[1;33m)\u001b[0m\u001b[1;33m\u001b[0m\u001b[1;33m\u001b[0m\u001b[0m\n\u001b[0m",
      "\u001b[1;32m<ipython-input-5-ab8575b2044a>\u001b[0m in \u001b[0;36mJacobiSolver\u001b[1;34m(xa, xb, ya, yb, N, tol_D)\u001b[0m\n\u001b[0;32m     25\u001b[0m         \u001b[1;32mfor\u001b[0m \u001b[0mk\u001b[0m \u001b[1;32min\u001b[0m \u001b[0mrange\u001b[0m\u001b[1;33m(\u001b[0m\u001b[1;36m1\u001b[0m\u001b[1;33m,\u001b[0m \u001b[0mN\u001b[0m\u001b[1;33m)\u001b[0m\u001b[1;33m:\u001b[0m\u001b[1;33m\u001b[0m\u001b[1;33m\u001b[0m\u001b[0m\n\u001b[0;32m     26\u001b[0m             \u001b[0my\u001b[0m\u001b[1;33m[\u001b[0m\u001b[0mk\u001b[0m\u001b[1;33m]\u001b[0m \u001b[1;33m=\u001b[0m \u001b[1;33m(\u001b[0m\u001b[0mb\u001b[0m\u001b[1;33m[\u001b[0m\u001b[0mk\u001b[0m\u001b[1;33m-\u001b[0m\u001b[1;36m1\u001b[0m\u001b[1;33m]\u001b[0m \u001b[1;33m-\u001b[0m \u001b[0mnp\u001b[0m\u001b[1;33m.\u001b[0m\u001b[0mdot\u001b[0m\u001b[1;33m(\u001b[0m\u001b[0mA\u001b[0m\u001b[1;33m[\u001b[0m\u001b[0mk\u001b[0m\u001b[1;33m-\u001b[0m\u001b[1;36m1\u001b[0m\u001b[1;33m]\u001b[0m\u001b[1;33m,\u001b[0m \u001b[0my\u001b[0m\u001b[1;33m)\u001b[0m \u001b[1;33m+\u001b[0m \u001b[0mA\u001b[0m\u001b[1;33m[\u001b[0m\u001b[0mk\u001b[0m\u001b[1;33m-\u001b[0m\u001b[1;36m1\u001b[0m\u001b[1;33m,\u001b[0m\u001b[0mk\u001b[0m\u001b[1;33m-\u001b[0m\u001b[1;36m1\u001b[0m\u001b[1;33m]\u001b[0m\u001b[1;33m*\u001b[0m\u001b[0my\u001b[0m\u001b[1;33m[\u001b[0m\u001b[0mk\u001b[0m\u001b[1;33m-\u001b[0m\u001b[1;36m1\u001b[0m\u001b[1;33m]\u001b[0m\u001b[1;33m)\u001b[0m\u001b[1;33m/\u001b[0m\u001b[0mA\u001b[0m\u001b[1;33m[\u001b[0m\u001b[0mk\u001b[0m\u001b[1;33m-\u001b[0m\u001b[1;36m1\u001b[0m\u001b[1;33m,\u001b[0m \u001b[0mk\u001b[0m\u001b[1;33m-\u001b[0m\u001b[1;36m1\u001b[0m\u001b[1;33m]\u001b[0m\u001b[1;33m\u001b[0m\u001b[1;33m\u001b[0m\u001b[0m\n\u001b[1;32m---> 27\u001b[1;33m         \u001b[0merror\u001b[0m \u001b[1;33m=\u001b[0m \u001b[0mnp\u001b[0m\u001b[1;33m.\u001b[0m\u001b[0mlinalg\u001b[0m\u001b[1;33m.\u001b[0m\u001b[0mnorm\u001b[0m\u001b[1;33m(\u001b[0m\u001b[0my\u001b[0m \u001b[1;33m-\u001b[0m \u001b[0mnp\u001b[0m\u001b[1;33m.\u001b[0m\u001b[0mmax\u001b[0m\u001b[1;33m(\u001b[0m\u001b[0my\u001b[0m\u001b[1;33m)\u001b[0m\u001b[1;33m)\u001b[0m\u001b[1;33m\u001b[0m\u001b[1;33m\u001b[0m\u001b[0m\n\u001b[0m\u001b[0;32m     28\u001b[0m     \u001b[1;32mreturn\u001b[0m \u001b[0my\u001b[0m\u001b[1;33m\u001b[0m\u001b[1;33m\u001b[0m\u001b[0m\n",
      "\u001b[1;32mC:\\ProgramData\\Anaconda3\\lib\\site-packages\\numpy\\linalg\\linalg.py\u001b[0m in \u001b[0;36mnorm\u001b[1;34m(x, ord, axis, keepdims)\u001b[0m\n\u001b[0;32m   2448\u001b[0m                 \u001b[0msqnorm\u001b[0m \u001b[1;33m=\u001b[0m \u001b[0mdot\u001b[0m\u001b[1;33m(\u001b[0m\u001b[0mx\u001b[0m\u001b[1;33m.\u001b[0m\u001b[0mreal\u001b[0m\u001b[1;33m,\u001b[0m \u001b[0mx\u001b[0m\u001b[1;33m.\u001b[0m\u001b[0mreal\u001b[0m\u001b[1;33m)\u001b[0m \u001b[1;33m+\u001b[0m \u001b[0mdot\u001b[0m\u001b[1;33m(\u001b[0m\u001b[0mx\u001b[0m\u001b[1;33m.\u001b[0m\u001b[0mimag\u001b[0m\u001b[1;33m,\u001b[0m \u001b[0mx\u001b[0m\u001b[1;33m.\u001b[0m\u001b[0mimag\u001b[0m\u001b[1;33m)\u001b[0m\u001b[1;33m\u001b[0m\u001b[1;33m\u001b[0m\u001b[0m\n\u001b[0;32m   2449\u001b[0m             \u001b[1;32melse\u001b[0m\u001b[1;33m:\u001b[0m\u001b[1;33m\u001b[0m\u001b[1;33m\u001b[0m\u001b[0m\n\u001b[1;32m-> 2450\u001b[1;33m                 \u001b[0msqnorm\u001b[0m \u001b[1;33m=\u001b[0m \u001b[0mdot\u001b[0m\u001b[1;33m(\u001b[0m\u001b[0mx\u001b[0m\u001b[1;33m,\u001b[0m \u001b[0mx\u001b[0m\u001b[1;33m)\u001b[0m\u001b[1;33m\u001b[0m\u001b[1;33m\u001b[0m\u001b[0m\n\u001b[0m\u001b[0;32m   2451\u001b[0m             \u001b[0mret\u001b[0m \u001b[1;33m=\u001b[0m \u001b[0msqrt\u001b[0m\u001b[1;33m(\u001b[0m\u001b[0msqnorm\u001b[0m\u001b[1;33m)\u001b[0m\u001b[1;33m\u001b[0m\u001b[1;33m\u001b[0m\u001b[0m\n\u001b[0;32m   2452\u001b[0m             \u001b[1;32mif\u001b[0m \u001b[0mkeepdims\u001b[0m\u001b[1;33m:\u001b[0m\u001b[1;33m\u001b[0m\u001b[1;33m\u001b[0m\u001b[0m\n",
      "\u001b[1;31mKeyboardInterrupt\u001b[0m: "
     ]
    }
   ],
   "source": [
    "xa = 0\n",
    "xb = np.pi\n",
    "ya = 1.5\n",
    "yb = 0\n",
    "N = 10 # for N intervals, there are N+1 values\n",
    "tol_D = 2\n",
    "JacobiSolver(xa, xb, ya, yb, N, tol_D)"
   ]
  },
  {
   "cell_type": "markdown",
   "metadata": {},
   "source": [
    "### Task 3: Types of Different Boundary Conditions"
   ]
  },
  {
   "cell_type": "code",
   "execution_count": 39,
   "metadata": {},
   "outputs": [],
   "source": [
    "def myfunc2(x, Q):\n",
    "    f = x\n",
    "    g = 1\n",
    "    p = Q\n",
    "    return (f, g, p)\n"
   ]
  },
  {
   "cell_type": "code",
   "execution_count": 62,
   "metadata": {},
   "outputs": [],
   "source": [
    "def myodebc2(xa, xb, bca, bcb, N, c, Q):\n",
    "    x = np.linspace(xa, xb, N+1)\n",
    "    y = np.zeros(len(x))\n",
    "    h = x[1] - x[0]\n",
    "    \n",
    "    A = np.zeros((N+1, N+1)) # formulate an (N+1)x(N+1) array with zeroes (same as np.ndarray((rows, columns))\n",
    "    b = np.zeros(N+1)\n",
    "    \n",
    "    # write the boundary conditions into the matrix with linear algebra\n",
    "    # boundary value a using forward difference scheme\n",
    "    A[0, 0] = c[1] - c[0]/h\n",
    "    A[0, 1] = c[0]/h\n",
    "    b[0] = bca\n",
    "    \n",
    "    # boundary value b using backward difference scheme\n",
    "    A[N, N] = c[2]/h + c[3]\n",
    "    A[N, N-1] = -c[2]/h\n",
    "    b[N] = bcb\n",
    "    \n",
    "    # formulating the matrix\n",
    "    for i in range(1, N): # up to index N-1\n",
    "        (f, g, p) = myfunc2(x[i], Q) # receives values of f, g, p for x value at i\n",
    "        A[i, i-1] = 1/h**2 - f/(2*h)\n",
    "        A[i, i] = g - 2/h**2\n",
    "        A[i, i+1] = 1/h**2 + f/(2*h)\n",
    "        b[i] = p\n",
    "    y = np.linalg.solve(A, b)\n",
    "    print(y)\n",
    "    return (x, y)"
   ]
  },
  {
   "cell_type": "code",
   "execution_count": 65,
   "metadata": {},
   "outputs": [
    {
     "name": "stdout",
     "output_type": "stream",
     "text": [
      "[-1.48290933 -1.48290933 -1.48853218 -1.49974643 -1.51649399 -1.53869053\n",
      " -1.56622624 -1.59896666 -1.63675378 -1.67940727 -1.72672591 -1.77848914\n",
      " -1.83445873 -1.89438064 -1.95798684 -2.02499735 -2.09512225 -2.1680637\n",
      " -2.24351806 -2.32117795 -2.40073427 -2.48187821 -2.56430319 -2.6477067\n",
      " -2.73179208 -2.81627018 -2.90086087 -2.98529448 -3.06931305 -3.15267147\n",
      " -3.23513847 -3.31649743 -3.39654705 -3.47510193 -3.55199287 -3.62706717\n",
      " -3.70018868 -3.77123778 -3.84011118 -3.9067217  -3.97099781 -4.03288314\n",
      " -4.09233598 -4.14932851 -4.20384617 -4.25588682 -4.30545995 -4.35258582\n",
      " -4.39729458 -4.43962535 -4.47962535]\n",
      "[3.51709067 3.51709067 3.51146782 3.50025357 3.48350601 3.46130947\n",
      " 3.43377376 3.40103334 3.36324622 3.32059273 3.27327409 3.22151086\n",
      " 3.16554127 3.10561936 3.04201316 2.97500265 2.90487775 2.8319363\n",
      " 2.75648194 2.67882205 2.59926573 2.51812179 2.43569681 2.3522933\n",
      " 2.26820792 2.18372982 2.09913913 2.01470552 1.93068695 1.84732853\n",
      " 1.76486153 1.68350257 1.60345295 1.52489807 1.44800713 1.37293283\n",
      " 1.29981132 1.22876222 1.15988882 1.0932783  1.02900219 0.96711686\n",
      " 0.90766402 0.85067149 0.79615383 0.74411318 0.69454005 0.64741418\n",
      " 0.60270542 0.56037465 0.52037465]\n",
      "[8.51709067 8.51709067 8.51146782 8.50025357 8.48350601 8.46130947\n",
      " 8.43377376 8.40103334 8.36324622 8.32059273 8.27327409 8.22151086\n",
      " 8.16554127 8.10561936 8.04201316 7.97500265 7.90487775 7.8319363\n",
      " 7.75648194 7.67882205 7.59926573 7.51812179 7.43569681 7.3522933\n",
      " 7.26820792 7.18372982 7.09913913 7.01470552 6.93068695 6.84732853\n",
      " 6.76486153 6.68350257 6.60345295 6.52489807 6.44800713 6.37293283\n",
      " 6.29981132 6.22876222 6.15988882 6.0932783  6.02900219 5.96711686\n",
      " 5.90766402 5.85067149 5.79615383 5.74411318 5.69454005 5.64741418\n",
      " 5.60270542 5.56037465 5.52037465]\n"
     ]
    },
    {
     "data": {
      "text/plain": [
       "[<matplotlib.lines.Line2D at 0x209a6400b70>]"
      ]
     },
     "execution_count": 65,
     "metadata": {},
     "output_type": "execute_result"
    },
    {
     "data": {
      "image/png": "[encoded data removed]",
      "text/plain": [
       "<Figure size 432x288 with 1 Axes>"
      ]
     },
     "metadata": {
      "needs_background": "light"
     },
     "output_type": "display_data"
    }
   ],
   "source": [
    "# Question 2:\n",
    "# solve the example ODE\n",
    "\n",
    "xa = 0\n",
    "xb = 2\n",
    "N = 50\n",
    "bca = 0\n",
    "bcb = -1\n",
    "c = [1, 0, 1, 0]\n",
    "\n",
    "(x1, y1) = myodebc2(xa, xb, bca, bcb, N, c, -5)\n",
    "plt.plot(x1, y1)\n",
    "\n",
    "(x2, y2) = myodebc2(xa, xb, bca, bcb, N, c, 0)\n",
    "plt.plot(x2 ,y2)\n",
    "\n",
    "(x3, y3) = myodebc2(xa, xb, bca, bcb, N, c, 5)\n",
    "plt.plot(x3, y3)\n"
   ]
  },
  {
   "cell_type": "markdown",
   "metadata": {},
   "source": [
    "### Task 3: Heat transfer in a nuclear fuel rod"
   ]
  },
  {
   "cell_type": "code",
   "execution_count": 79,
   "metadata": {},
   "outputs": [],
   "source": [
    "def funct(x, R, k):\n",
    "    f = 1/x\n",
    "    g = 0\n",
    "    p = ((-10**8)*np.exp(-x/R))/(R*k)\n",
    "    return (f, g, p)"
   ]
  },
  {
   "cell_type": "code",
   "execution_count": 83,
   "metadata": {},
   "outputs": [],
   "source": [
    "def myodebc3(xa, xb, bca, bcb, N, c):\n",
    "    x = np.linspace(xa, xb, N+1)\n",
    "    y = np.zeros(len(x))\n",
    "    h = x[1] - x[0]\n",
    "    \n",
    "    A = np.zeros((N+1, N+1)) # formulate an (N+1)x(N+1) array with zeroes (same as np.ndarray((rows, columns))\n",
    "    b = np.zeros(N+1)\n",
    "    \n",
    "    # write the boundary conditions into the matrix with linear algebra\n",
    "    # boundary value a using forward difference scheme\n",
    "    A[0, 0] = c[1] - c[0]/h\n",
    "    A[0, 1] = c[0]/h\n",
    "    b[0] = bca\n",
    "    \n",
    "    # boundary value b using backward difference scheme\n",
    "    A[N, N] = c[2]/h + c[3]\n",
    "    A[N, N-1] = -c[2]/h\n",
    "    b[N] = bcb\n",
    "    \n",
    "    # formulating the matrix\n",
    "    for i in range(1, N): # up to index N-1\n",
    "        (f, g, p) = funct(x[i], R, k) # receives values of f, g, p for x value at i\n",
    "        A[i, i-1] = 1/h**2 - f/(2*h)\n",
    "        A[i, i] = g - 2/h**2\n",
    "        A[i, i+1] = 1/h**2 + f/(2*h)\n",
    "        b[i] = p\n",
    "    y = np.linalg.solve(A, b)\n",
    "    print(y)\n",
    "    return (x, y)"
   ]
  },
  {
   "cell_type": "code",
   "execution_count": 88,
   "metadata": {},
   "outputs": [
    {
     "name": "stdout",
     "output_type": "stream",
     "text": [
      "[1253.56589261 1251.30201201 1248.52317007 1245.23345813 1241.43692732\n",
      " 1237.13758907 1232.33941574 1227.04634109 1221.26226087 1214.99103334\n",
      " 1208.23647975 1201.00238487 1193.29249751 1185.11053096 1176.46016351\n",
      " 1167.34503889 1157.76876677 1147.73492316 1137.24705091 1126.3086601\n",
      " 1114.92322852 1103.09420204 1090.82499506 1078.11899092 1064.97954225\n",
      " 1051.40997144 1037.41357096 1022.99360379 1008.15330375  992.89587589\n",
      "  977.22449685  961.14231523  944.65245189  927.75800034  910.46202706\n",
      "  892.76757184  874.67764808  856.19524314  837.32331863  818.06481076\n",
      "  798.42263059  778.39966438  757.99877384  737.22279647  716.0745458\n",
      "  694.5568117   672.67236064  650.42393597  627.81425821  604.84602524\n",
      "  581.52191267]\n"
     ]
    },
    {
     "data": {
      "text/plain": [
       "[<matplotlib.lines.Line2D at 0x209a670c128>]"
      ]
     },
     "execution_count": 88,
     "metadata": {},
     "output_type": "execute_result"
    },
    {
     "data": {
      "image/png": "[encoded data removed]",
      "text/plain": [
       "<Figure size 432x288 with 1 Axes>"
      ]
     },
     "metadata": {
      "needs_background": "light"
     },
     "output_type": "display_data"
    }
   ],
   "source": [
    "#x is r, y is T\n",
    "\n",
    "R = 15*10**-3\n",
    "w = 3*10**-3\n",
    "k = 16.75\n",
    "h = 6*10**4\n",
    "N = 50\n",
    "Tw = 473\n",
    "\n",
    "bca = (-6.32*10**5)/k\n",
    "bcb = (*h/k)*Tw\n",
    "c = [1, 0, 1, h/k]\n",
    "\n",
    "(r1, T1) = myodebc3(R, R+w, bca, bcb, N, c)\n",
    "plt.plot(r1, T1)"
   ]
  },
  {
   "cell_type": "code",
   "execution_count": null,
   "metadata": {},
   "outputs": [],
   "source": []
  },
  {
   "cell_type": "code",
   "execution_count": null,
   "metadata": {},
   "outputs": [],
   "source": []
  }
 ],
 "metadata": {
  "kernelspec": {
   "display_name": "Python 3",
   "language": "python",
   "name": "python3"
  },
  "language_info": {
   "codemirror_mode": {
    "name": "ipython",
    "version": 3
   },
   "file_extension": ".py",
   "mimetype": "text/x-python",
   "name": "python",
   "nbconvert_exporter": "python",
   "pygments_lexer": "ipython3",
   "version": "3.7.3"
  }
 },
 "nbformat": 4,
 "nbformat_minor": 2
}
