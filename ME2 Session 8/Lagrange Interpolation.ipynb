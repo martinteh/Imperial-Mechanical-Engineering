{
 "cells": [
  {
   "cell_type": "markdown",
   "metadata": {},
   "source": [
    "# M2AA3 Chapter 3, Lesson 1 - Lagrange Interpolation"
   ]
  },
  {
   "cell_type": "code",
   "execution_count": 6,
   "metadata": {},
   "outputs": [],
   "source": [
    "import sympy as sp\n",
    "import numpy as np"
   ]
  },
  {
   "cell_type": "markdown",
   "metadata": {},
   "source": [
    "Given points $\\{(z_i, f_i) \\}_{i=0}^n$, where $\\forall i, z_i, f_i \\in \\mathbb{C}$, and $z_i$ are distinct. We would like to find a polynomial $p_n \\in \\mathbb{P}_n$ such that $\\forall i, p_n(z_i) = f_i$.\n",
    "\n",
    "The following polynomials work:\n",
    "$$p_n(z) = \\sum_{i=0}^n f_i l_i(z)$$ where $l_i (z)$ is the Largrange's basis function\n",
    "$$l_i(z) = \\prod_{\\substack{0 \\leq k \\leq n \\\\ k \\neq i}} \\frac{z - z_k}{z_i - z_k}$$\n",
    "The function 'lagrange' inputs 'zs' (list of $z_i$) and 'fs' (list of $f_i$) and output polynomials. "
   ]
  },
  {
   "cell_type": "code",
   "execution_count": 2,
   "metadata": {},
   "outputs": [],
   "source": [
    "x = sp.symbols('x')\n",
    "l = sp.Function('l')\n",
    "p = sp.Function('p')"
   ]
  },
  {
   "cell_type": "markdown",
   "metadata": {},
   "source": [
    "Step 1 - Find Largrange Basis"
   ]
  },
  {
   "cell_type": "code",
   "execution_count": 3,
   "metadata": {},
   "outputs": [],
   "source": [
    "def basis(zs,i):\n",
    "    \n",
    "    # Initialization\n",
    "    zi = zs[i]\n",
    "    l = 1\n",
    "    \n",
    "    # Loop for Product\n",
    "    for zj in zs:\n",
    "        if zj != zi:\n",
    "            l = l * (x-zj)/(zi-zj)\n",
    "    \n",
    "    l = sp.simplify(l)\n",
    "    return l"
   ]
  },
  {
   "cell_type": "markdown",
   "metadata": {},
   "source": [
    "Step 2 - Find Polynomial"
   ]
  },
  {
   "cell_type": "code",
   "execution_count": 4,
   "metadata": {},
   "outputs": [],
   "source": [
    "def lagrange(zs,fs):\n",
    "    \n",
    "    # Initialization\n",
    "    p = 0\n",
    "    \n",
    "    # Loop for Sum\n",
    "    for i in range(len(fs)):\n",
    "        p += fs[i]*basis(zs,i)\n",
    "    \n",
    "    p = sp.simplify(p)\n",
    "    return p"
   ]
  },
  {
   "cell_type": "markdown",
   "metadata": {},
   "source": [
    "Example - Use the following data to find the largrange polynomial."
   ]
  },
  {
   "cell_type": "code",
   "execution_count": 7,
   "metadata": {},
   "outputs": [],
   "source": [
    "xs = [1, 2, 3, 5]\n",
    "ys = [np.log(x) for x in xs]"
   ]
  },
  {
   "cell_type": "code",
   "execution_count": 9,
   "metadata": {},
   "outputs": [
    {
     "name": "stdout",
     "output_type": "stream",
     "text": [
      "[0.0, 0.6931471805599453, 1.0986122886681098, 1.6094379124341003]\n"
     ]
    },
    {
     "data": {
      "text/latex": [
       "$\\displaystyle 0.0234559010377085 x^{3} - 0.284576442452141 x^{2} + 1.38268520065241 x - 1.12156465923798$"
      ],
      "text/plain": [
       "0.0234559010377085*x**3 - 0.284576442452141*x**2 + 1.38268520065241*x - 1.12156465923798"
      ]
     },
     "execution_count": 9,
     "metadata": {},
     "output_type": "execute_result"
    }
   ],
   "source": [
    "print(ys)\n",
    "lagrange(xs,ys)"
   ]
  },
  {
   "cell_type": "code",
   "execution_count": null,
   "metadata": {},
   "outputs": [],
   "source": []
  }
 ],
 "metadata": {
  "kernelspec": {
   "display_name": "Python 3",
   "language": "python",
   "name": "python3"
  },
  "language_info": {
   "codemirror_mode": {
    "name": "ipython",
    "version": 3
   },
   "file_extension": ".py",
   "mimetype": "text/x-python",
   "name": "python",
   "nbconvert_exporter": "python",
   "pygments_lexer": "ipython3",
   "version": "3.7.4"
  }
 },
 "nbformat": 4,
 "nbformat_minor": 2
}
