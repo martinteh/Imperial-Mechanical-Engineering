{
 "cells": [
  {
   "cell_type": "markdown",
   "metadata": {},
   "source": [
    "## Numerical Differentiation"
   ]
  },
  {
   "cell_type": "code",
   "execution_count": 3,
   "metadata": {},
   "outputs": [],
   "source": [
    "import numpy as np\n",
    "import math as mt"
   ]
  },
  {
   "cell_type": "markdown",
   "metadata": {},
   "source": [
    "1st Order Forward, Backward and Central (h and 2h) Finite Difference"
   ]
  },
  {
   "cell_type": "code",
   "execution_count": 4,
   "metadata": {},
   "outputs": [],
   "source": [
    "def first_derivative(f, a, b, h, key):\n",
    "    if key == \"central_h\":\n",
    "        yc = f((np.arange(a, b+(h/2), h/2))**2)\n",
    "    else:\n",
    "        y = f((np.arange(a, b+h, h))**2) #if the variable x inside needs changing, do it here\n",
    "        \n",
    "    if key == \"forward\":\n",
    "        dyf = np.zeros(len(y))\n",
    "        dyf[:-1] = (y[1:] - y[:-1])/h\n",
    "        print(dyf)\n",
    "    elif key == \"backward\":\n",
    "        dyb = np.zeros(len(y))\n",
    "        dyb[1:] = (y[1:] - y[:-1])/h\n",
    "        print(dyb)\n",
    "    elif key == \"central_h\":\n",
    "        dyc1 = np.zeros(len(yc))\n",
    "        dyc1[1:-1] = (yc[2:] - yc[:-2])/h\n",
    "        print(dyc1[::2])\n",
    "    else:\n",
    "        dyc2 = np.zeros(len(y))\n",
    "        dyc2[1:-1] = (y[2:] - y[:-2])/(2*h)\n",
    "        print(dyc2)\n",
    "                "
   ]
  },
  {
   "cell_type": "code",
   "execution_count": 5,
   "metadata": {
    "scrolled": true
   },
   "outputs": [
    {
     "name": "stdout",
     "output_type": "stream",
     "text": [
      "[ 0.         -0.30424602 -1.67525654 -2.01034008  2.6797518   0.        ]\n"
     ]
    }
   ],
   "source": [
    "first_derivative(np.cos, 0, 2.5, 0.5, \"central_h\")"
   ]
  },
  {
   "cell_type": "markdown",
   "metadata": {},
   "source": [
    "Higher Order Kth Order Derivative Approximations in progress"
   ]
  },
  {
   "cell_type": "code",
   "execution_count": 13,
   "metadata": {},
   "outputs": [
    {
     "name": "stdout",
     "output_type": "stream",
     "text": [
      "[1.5171847034439614, 2.0231171880088246, 2.718281828459045, 3.6888331178039273, 5.0648349803958626] [2.5604865337565443, 2.638075473867572, 2.718281828459045, 2.8012068182802015, 2.8869559060753396]\n",
      "108.10920868084781 103.34174676818185\n"
     ]
    }
   ],
   "source": [
    "xs1 = [0.8, 0.9, 1, 1.1, 1.2]\n",
    "xs2 = [0.98, 0.99, 1, 1.01, 1.02]\n",
    "ys1 = [x*np.exp(x**2) for x in xs1]\n",
    "ys2 = [x*np.exp(x**2) for x in xs2]\n",
    "h1 = 0.1\n",
    "h2 = 0.01\n",
    "\n",
    "third1 = (1/(2*(h1**3)))*(ys1[4] -2*ys1[3] +2*ys1[1] -ys1[0])\n",
    "third2 = (1/(2*(h2**3)))*(ys2[4] -2*ys2[3] +2*ys2[1] -ys2[0])\n",
    "print(ys1, ys2)\n",
    "print(third1, third2)"
   ]
  },
  {
   "cell_type": "code",
   "execution_count": null,
   "metadata": {},
   "outputs": [],
   "source": [
    "# Binomial coefficient\n",
    "def Fact(n):\n",
    "    f = 1\n",
    "    for i in range(1,n+1):\n",
    "        f *= i\n",
    "    return f\n",
    "\n",
    "def BinCoeff(n,k):\n",
    "    # as defined in the formula\n",
    "    B = Fact(n)/(Fact(k)*Fact(n-k))\n",
    "    return B"
   ]
  },
  {
   "cell_type": "code",
   "execution_count": null,
   "metadata": {},
   "outputs": [],
   "source": [
    "# higher order derivative in the forward scheme\n",
    "\n",
    "def Derivative(yn,h,k):\n",
    "    # yn: the nodal points\n",
    "    # h: the size of intervals\n",
    "    # k: order of derivative\n",
    "    \n",
    "    # number of nodes\n",
    "    N = len(yn)\n",
    "    # set derivative array with N-k nodes: remember that for every order we loose a node\n",
    "    dyn = np.ndarray(N-k)\n",
    "    # loop over the nodes where we need to compute the derivative\n",
    "    for n in range(0,N-k):\n",
    "        # computing derivative for node n\n",
    "        # set the derivative for node n to zero\n",
    "        dyn[n] = 0\n",
    "        # apply the formula for forward scheme\n",
    "        for i in range(0,k+1):\n",
    "            dyn[n] += (-1)**i*BinCoeff(k,i)*yn[n+k-i] \n",
    "        # multiply by factor 1/h**k\n",
    "        dyn[n] = dyn[n] / h**k\n",
    "    return dyn"
   ]
  },
  {
   "cell_type": "code",
   "execution_count": null,
   "metadata": {},
   "outputs": [],
   "source": [
    "xn = np.linspace(0,2*np.pi,10)\n",
    "yn = np.sin(xn)\n",
    "# order of the derivative\n",
    "k = 4\n",
    "h = xn[1] - xn[0]\n",
    "dyn = Derivative(yn,h,k)\n",
    "\n",
    "# plot of derivative\n",
    "plt.scatter(xn,yn,c='Blue')\n",
    "plt.plot(xn[:-k],dyn,c='Red')"
   ]
  }
 ],
 "metadata": {
  "kernelspec": {
   "display_name": "Python 3",
   "language": "python",
   "name": "python3"
  },
  "language_info": {
   "codemirror_mode": {
    "name": "ipython",
    "version": 3
   },
   "file_extension": ".py",
   "mimetype": "text/x-python",
   "name": "python",
   "nbconvert_exporter": "python",
   "pygments_lexer": "ipython3",
   "version": "3.7.4"
  }
 },
 "nbformat": 4,
 "nbformat_minor": 2
}
