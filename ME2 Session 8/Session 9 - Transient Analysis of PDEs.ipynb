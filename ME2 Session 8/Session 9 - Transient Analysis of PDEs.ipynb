{
 "cells": [
  {
   "cell_type": "markdown",
   "metadata": {},
   "source": [
    "## Transient Analysis of PDEs"
   ]
  },
  {
   "cell_type": "code",
   "execution_count": 43,
   "metadata": {},
   "outputs": [
    {
     "name": "stdout",
     "output_type": "stream",
     "text": [
      "Using matplotlib backend: Qt5Agg\n",
      "Populating the interactive namespace from numpy and matplotlib\n"
     ]
    }
   ],
   "source": [
    "%pylab\n",
    "import math as mt\n",
    "import matplotlib.pyplot as pl"
   ]
  },
  {
   "cell_type": "markdown",
   "metadata": {},
   "source": [
    "### 1. Create Grid Points\n",
    "### 2. Define Boundary Conditions\n",
    "### 3. Perform Iteration"
   ]
  },
  {
   "cell_type": "markdown",
   "metadata": {},
   "source": [
    "#### Heat Diffusion Equation - Conduction within a body (1D)"
   ]
  },
  {
   "cell_type": "markdown",
   "metadata": {},
   "source": [
    "\\begin{equation}\n",
    "\\frac{\\partial T}{\\partial t} = \\alpha \\frac{\\partial ^2T}{\\partial x^2}\n",
    "\\end{equation}"
   ]
  },
  {
   "cell_type": "markdown",
   "metadata": {},
   "source": [
    "Task A: Heat Conduction in a Bar"
   ]
  },
  {
   "cell_type": "code",
   "execution_count": 72,
   "metadata": {},
   "outputs": [],
   "source": [
    "def HeatFDifference(alp, a, b, T0, Ta, Tb, t0, tend, k, h):\n",
    "    \n",
    "    # x_grid points\n",
    "    x = np.arange(a,b+h,h)\n",
    "    Nx = len(x)\n",
    "    \n",
    "    # t_grid points\n",
    "    t = np.arange(0,tend+k,k)\n",
    "    Nt = len(t)\n",
    "    \n",
    "    # create the solution matrix\n",
    "    T = np.ndarray((Nt,Nx))\n",
    "    \n",
    "    # set the initial conditions\n",
    "    T[0,:] = T0\n",
    "    \n",
    "    c = alp * k / h**2\n",
    "    print(c)\n",
    "    \n",
    "    # perform the iteration\n",
    "    for p in range(1, Nt):\n",
    "        T[p, 0] = Ta\n",
    "        T[p, Nx-1] = Tb\n",
    "                \n",
    "        for i in range(1, Nx-1):\n",
    "            T[p, i] = c*(T[p-1, i+1] - 2*T[p-1, i] + T[p-1, i-1]) + T[p-1, i]\n",
    "    pl.plot(x,T[-1,:])"
   ]
  },
  {
   "cell_type": "code",
   "execution_count": 36,
   "metadata": {},
   "outputs": [],
   "source": [
    "alp = 1.172e-5\n",
    "a = 0\n",
    "b = 0.5\n",
    "T0 = 10\n",
    "Ta = 50\n",
    "Tb = 70\n",
    "t0 = 0\n",
    "tend = 3600\n",
    "k = 1\n",
    "h = 0.01\n",
    "HeatFDifference(alp, a, b, T0, Ta, Tb, t0, tend, k, h)"
   ]
  },
  {
   "cell_type": "markdown",
   "metadata": {},
   "source": [
    "Task B: Heat Conduction in a bar with a heat source"
   ]
  },
  {
   "cell_type": "code",
   "execution_count": 68,
   "metadata": {},
   "outputs": [],
   "source": [
    "def HDEFDSource(alp, K, h, a, b, T0, t0, tend, dt, dx):\n",
    "    \n",
    "    # x_grid points\n",
    "    x = np.arange(a,b+dx,dx)\n",
    "    Nx = len(x)\n",
    "    \n",
    "    # t_grid points\n",
    "    t = np.arange(0,tend+dt,dt)\n",
    "    Nt = len(t)\n",
    "    \n",
    "    # create the solution matrix\n",
    "    T = np.ndarray((Nt,Nx))\n",
    "    \n",
    "    # set the initial conditions\n",
    "    T[0,:] = T0\n",
    "    T[0, mt.ceil(Nx/2)] = 100\n",
    "    \n",
    "    c = alp * dt / dx**2\n",
    "    print(c)\n",
    "    \n",
    "    # perform the iteration\n",
    "    for p in range(1, Nt):\n",
    "        T[p,0] = (h*Tw+K/dx*T[p-1,1]) / (h+K/dx)\n",
    "        T[p,Nx-1] = (h*Tw+K/dx*T[p-1,Nx-2]) / (h+K/dx)\n",
    "                \n",
    "        for i in range(1, Nx-1):\n",
    "            T[p, i] = c*(T[p-1, i+1] - 2*T[p-1, i] + T[p-1, i-1]) + T[p-1, i]\n",
    "            T[p,mt.ceil(Nx/2)] = 100\n",
    "    pl.plot(x,T[-1,:]) # plot T(x, tend)\n",
    "    return c"
   ]
  },
  {
   "cell_type": "code",
   "execution_count": 69,
   "metadata": {},
   "outputs": [
    {
     "name": "stdout",
     "output_type": "stream",
     "text": [
      "0.11719999999999998\n"
     ]
    },
    {
     "data": {
      "text/plain": [
       "0.11719999999999998"
      ]
     },
     "execution_count": 69,
     "metadata": {},
     "output_type": "execute_result"
    }
   ],
   "source": [
    "alp = 1.172e-5\n",
    "K = 40\n",
    "h = 500\n",
    "a = 0\n",
    "b = 0.5\n",
    "T0 = 10\n",
    "Tw = 5\n",
    "t0 = 0\n",
    "tend = 1200\n",
    "dt = 1\n",
    "dx = 0.01\n",
    "HDEFDSource(alp, K, h, a, b, T0, t0, tend, dt, dx)"
   ]
  },
  {
   "cell_type": "markdown",
   "metadata": {},
   "source": [
    "Task C: Stability of the finite difference numerical method"
   ]
  },
  {
   "cell_type": "code",
   "execution_count": 73,
   "metadata": {},
   "outputs": [
    {
     "name": "stdout",
     "output_type": "stream",
     "text": [
      "0.11719999999999998\n",
      "0.46879999999999994\n",
      "11.72\n"
     ]
    },
    {
     "name": "stderr",
     "output_type": "stream",
     "text": [
      "D:\\Anaconda\\lib\\site-packages\\ipykernel_launcher.py:26: RuntimeWarning: overflow encountered in double_scalars\n",
      "D:\\Anaconda\\lib\\site-packages\\ipykernel_launcher.py:26: RuntimeWarning: invalid value encountered in double_scalars\n"
     ]
    }
   ],
   "source": [
    "alp = 1.172e-5\n",
    "a = 0\n",
    "b = 0.5\n",
    "T0 = 10\n",
    "Ta = 50\n",
    "Tb = 50\n",
    "t0 = 0\n",
    "tend = 3600\n",
    "HeatFDifference(alp, a, b, T0, Ta, Tb, t0, tend, 1, 0.01)\n",
    "HeatFDifference(alp, a, b, T0, Ta, Tb, t0, tend, 1, 0.005)\n",
    "HeatFDifference(alp, a, b, T0, Ta, Tb, t0, tend, 1, 0.001)"
   ]
  },
  {
   "cell_type": "markdown",
   "metadata": {},
   "source": [
    "Task D: Baking a Potato in the Oven"
   ]
  },
  {
   "cell_type": "code",
   "execution_count": 78,
   "metadata": {},
   "outputs": [],
   "source": [
    "def TwoDimensionalPDE(xa, xb, ya, yb, pw, dx, dy, dt, tend, Toven, Tpot, Tw, alphaAir, alphaPot):\n",
    "    # position of the potato\n",
    "    xap = (xb-xa)/2 - pw/2\n",
    "    xbp = (xb-xa)/2 + pw/2\n",
    "    yap = (yb-ya)/2 - pw/2 \n",
    "    ybp = (yb-ya)/2 + pw/2\n",
    "    \n",
    "    # x_grid points\n",
    "    x = np.arange(xa,xb+dx,dx)\n",
    "    Nx = len(x)\n",
    "    \n",
    "    # y_grid points\n",
    "    y = np.arange(ya,yb+dy,dy)\n",
    "    Ny = len(y)\n",
    "    \n",
    "    # t_grid points\n",
    "    t = np.arange(0,tend+dt,dt)\n",
    "    Nt = len(t)\n",
    "    \n",
    "    # create the solution matrix\n",
    "    T = np.ndarray((Nt,Nx,Ny))\n",
    "    \n",
    "    # diffusivity value matrix (allows for different alpha values throughout the grid)\n",
    "    alpha = np.ndarray((Nx,Ny))\n",
    "    alpha[:,:] = alphaAir\n",
    "    \n",
    "    # set the inital value everywhere in the oven\n",
    "    T[0,:,:] = Toven\n",
    "    \n",
    "    # initialise the temperature of the potato\n",
    "    for i in range(0,Nx):\n",
    "        for j in range(0,Ny):\n",
    "            if (xap<=x[i]<=xbp) and (yap<=y[j]<=ybp):\n",
    "                T[0,i,j] = Tpot\n",
    "                alpha[i,j] = alphapot\n",
    "    # check the Courant condition\n",
    "    Courant = np.max(alpha) * dt/ dx**2\n",
    "    print(Courant)\n",
    "    \n",
    "    # compute the constant coefficient\n",
    "    cx = alpha * dt / dx**2\n",
    "    cy = alpha * dt / dy**2\n",
    "    \n",
    "    # compute the solution incrementally at subsequent time steps\n",
    "    for p in range(1,Nt):\n",
    "        \n",
    "        # boundary conditions\n",
    "        T[p,0,:] = Tw # N\n",
    "        T[p,Nx-1,:] = Tw # S\n",
    "        T[p,:,0] = Tw # W\n",
    "        T[p,:,Ny-1] = Tw # E\n",
    "        \n",
    "        # do the interior nodes\n",
    "        for i in range(1,Nx-1):\n",
    "            for j in range(1,Ny-1):\n",
    "            \n",
    "            # apply the discretised equation\n",
    "                T[p,i,j] = cx[i,j]*(T[p-1,i+1,j]+T[p-1,i-1,j]) + \\\n",
    "                           cy[i,j]*(T[p-1,i,j+1]+T[p-1,i,j-1]) + \\\n",
    "                           (1 - 2*cx[i,j] - 2*cy[i,j]) * T[p-1,i,j]\n",
    "        \n",
    "    print( np.min(T[-1,:,:]) )\n",
    "        # plot surface or contour plot\n",
    "    (Yg, Xg) = np.meshgrid(y,x)\n",
    "    pl.contourf(Xg,Yg,T[-1,:,:])\n",
    "    pl.colorbar()"
   ]
  },
  {
   "cell_type": "code",
   "execution_count": null,
   "metadata": {},
   "outputs": [
    {
     "name": "stdout",
     "output_type": "stream",
     "text": [
      "0.19\n"
     ]
    }
   ],
   "source": [
    "xa = 0\n",
    "xb = 0.4\n",
    "ya = 0\n",
    "yb = 0.3\n",
    "pw = 0.06 # potato width\n",
    "\n",
    "dx = 0.01 # spatial increment\n",
    "dy = dx\n",
    "# temporal domain\n",
    "dt = 1 # temporal increment\n",
    "tend = 9000  # temporal span\n",
    "\n",
    "Toven = 10 # initial Temperature of oven\n",
    "Tpot = -15 # initial Temperature of potato\n",
    "Tw = 180 # T of oven walls\n",
    "\n",
    "alphaAir = 1.9e-5 # thermal diffusivity of air\n",
    "alphaPot = 1.3e-7 # thermal diffusivity of potato\n",
    "\n",
    "TwoDimensionalPDE(xa, xb, ya, yb, pw, dx, dy, dt, tend, Toven, Tpot, Tw, alphaAir, alphaPot)"
   ]
  },
  {
   "cell_type": "code",
   "execution_count": null,
   "metadata": {},
   "outputs": [],
   "source": []
  }
 ],
 "metadata": {
  "kernelspec": {
   "display_name": "Python 3",
   "language": "python",
   "name": "python3"
  },
  "language_info": {
   "codemirror_mode": {
    "name": "ipython",
    "version": 3
   },
   "file_extension": ".py",
   "mimetype": "text/x-python",
   "name": "python",
   "nbconvert_exporter": "python",
   "pygments_lexer": "ipython3",
   "version": "3.7.1"
  }
 },
 "nbformat": 4,
 "nbformat_minor": 2
}
