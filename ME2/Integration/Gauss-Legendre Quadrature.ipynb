{
 "cells": [
  {
   "cell_type": "markdown",
   "metadata": {},
   "source": [
    "## Gauss-Legendre Quadrature"
   ]
  },
  {
   "cell_type": "code",
   "execution_count": 1,
   "metadata": {},
   "outputs": [
    {
     "name": "stdout",
     "output_type": "stream",
     "text": [
      "Using matplotlib backend: Qt5Agg\n",
      "Populating the interactive namespace from numpy and matplotlib\n"
     ]
    }
   ],
   "source": [
    "%pylab"
   ]
  },
  {
   "cell_type": "code",
   "execution_count": 2,
   "metadata": {},
   "outputs": [],
   "source": [
    "def gauss(tj, wj, f, A, B):\n",
    "    print(\"f(tn):\",f)\n",
    "    \n",
    "    tot = []\n",
    "    for j in range(0, len(tj)):\n",
    "        tot += [wj[j]*f[j]]\n",
    "    print(\"wj*f(tj) sum:\",tot)\n",
    "    print(\"I = \", ((B-A)/2)*np.sum(tot))"
   ]
  },
  {
   "cell_type": "code",
   "execution_count": 3,
   "metadata": {},
   "outputs": [
    {
     "name": "stdout",
     "output_type": "stream",
     "text": [
      "f(tn): [1.633234839302495, 1.0094820604024386]\n",
      "wj*f(tj) sum: [1.633234839302495, 1.0094820604024386]\n",
      "I =  1.3213584498524669\n"
     ]
    }
   ],
   "source": [
    "#deg precision 3\n",
    "t1 = 1/np.sqrt(3)\n",
    "t2 = -1/np.sqrt(3)\n",
    "w12 = 1\n",
    "wj = [w12, w12]\n",
    "tj = [t1, t2]\n",
    "\n",
    "A = 0 #bounds\n",
    "B = 1\n",
    "\n",
    "xj = [0.5*(A*(1-t) +B*(t+1)) for t in tj]\n",
    "f = [np.exp(x**3) for x in xj] #put equation in here\n",
    "gauss(tj, wj, f, A, B)"
   ]
  },
  {
   "cell_type": "code",
   "execution_count": 11,
   "metadata": {},
   "outputs": [
    {
     "name": "stdout",
     "output_type": "stream",
     "text": [
      "f(tn): [1.9497951632511343, 0.11414229404393167, 0.6420127083438707]\n",
      "wj*f(tj) sum: [1.083219535139519, 0.06341238557996204, 0.5706779629723294]\n",
      "I =  0.8586549418459053\n"
     ]
    }
   ],
   "source": [
    "# deg of precision 5\n",
    "t1 = np.sqrt(3/5)\n",
    "t2 = -np.sqrt(3/5)\n",
    "t3 = 0\n",
    "w12 = 5/9\n",
    "w3 = 8/9\n",
    "wj = [w12, w12, w3]\n",
    "tj = [t1, t2, t3]\n",
    "\n",
    "A = 0\n",
    "B = 1\n",
    "\n",
    "xj = [0.5*(A*(1-t) +B*(t+1)) for t in tj]\n",
    "f = [x*np.exp(x**2) for x in xj] #put equation in here\n",
    "gauss(tj, wj, f, A, B)"
   ]
  },
  {
   "cell_type": "code",
   "execution_count": 8,
   "metadata": {},
   "outputs": [
    {
     "name": "stdout",
     "output_type": "stream",
     "text": [
      "f(tn): [1.0495857746664417, 0.3679796477439817, 2.212221321150734, 0.06976736801117067]\n",
      "wj*f(tj) sum: [0.6844822775613721, 0.23997614436426412, 0.7695319050786621, 0.024268916995173525]\n",
      "I =  0.8591296219997359\n"
     ]
    }
   ],
   "source": [
    "# deg of precision 7\n",
    "t1 = np.sqrt((3/7) - (2/7)*np.sqrt(6/5))\n",
    "t2 = -np.sqrt((3/7) - (2/7)*np.sqrt(6/5))\n",
    "t3 = np.sqrt((3/7) + (2/7)*np.sqrt(6/5))\n",
    "t4 = -np.sqrt((3/7) + (2/7)*np.sqrt(6/5))\n",
    "w12 = (18+np.sqrt(30))/36\n",
    "w34 = (18-np.sqrt(30))/36\n",
    "\n",
    "wj = [w12, w12, w34, w34]\n",
    "tj = [t1, t2, t3, t4]\n",
    "\n",
    "A = 0 #bounds\n",
    "B = 1\n",
    "\n",
    "xj = [0.5*(A*(1-t) +B*(t+1)) for t in tj] \n",
    "f = [x*np.exp(x**2) for x in xj] #put equation in here\n",
    "gauss(tj, wj, f, A, B)"
   ]
  }
 ],
 "metadata": {
  "kernelspec": {
   "display_name": "Python 3",
   "language": "python",
   "name": "python3"
  },
  "language_info": {
   "codemirror_mode": {
    "name": "ipython",
    "version": 3
   },
   "file_extension": ".py",
   "mimetype": "text/x-python",
   "name": "python",
   "nbconvert_exporter": "python",
   "pygments_lexer": "ipython3",
   "version": "3.7.1"
  }
 },
 "nbformat": 4,
 "nbformat_minor": 2
}
