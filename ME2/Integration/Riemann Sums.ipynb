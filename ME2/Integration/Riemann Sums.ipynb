{
 "cells": [
  {
   "cell_type": "markdown",
   "metadata": {},
   "source": [
    "## Riemann Sums"
   ]
  },
  {
   "cell_type": "code",
   "execution_count": 1,
   "metadata": {},
   "outputs": [],
   "source": [
    "import numpy as np"
   ]
  },
  {
   "cell_type": "code",
   "execution_count": 20,
   "metadata": {},
   "outputs": [],
   "source": [
    "def f(xn):\n",
    "    return 1/(4+xn**2)**2"
   ]
  },
  {
   "cell_type": "markdown",
   "metadata": {},
   "source": [
    "Middle Riemann Sum"
   ]
  },
  {
   "cell_type": "code",
   "execution_count": 3,
   "metadata": {},
   "outputs": [],
   "source": [
    "def middleriemann(a, b, n):\n",
    "    h = (b-a)/n\n",
    "    tot = np.sum(f(np.linspace(h/2, b - h/2, n))*h)\n",
    "    return tot"
   ]
  },
  {
   "cell_type": "code",
   "execution_count": 4,
   "metadata": {},
   "outputs": [
    {
     "data": {
      "text/plain": [
       "1.0000001028083867"
      ]
     },
     "execution_count": 4,
     "metadata": {},
     "output_type": "execute_result"
    }
   ],
   "source": [
    "middleriemann(0, np.pi/2, 1000)"
   ]
  },
  {
   "cell_type": "markdown",
   "metadata": {},
   "source": [
    "Left Riemann Sum"
   ]
  },
  {
   "cell_type": "code",
   "execution_count": 18,
   "metadata": {},
   "outputs": [],
   "source": [
    "def leftriemann(a, b, n):\n",
    "    h = (b-a)/n\n",
    "    tot = f(a) + np.sum(f(np.arange(a+h, b, h)))\n",
    "    print(f(a), f(np.arange(a+h, b, h)))\n",
    "    return h*tot"
   ]
  },
  {
   "cell_type": "code",
   "execution_count": 21,
   "metadata": {},
   "outputs": [
    {
     "name": "stdout",
     "output_type": "stream",
     "text": [
      "0.0625 [0.05536332 0.04       0.0256    ]\n"
     ]
    },
    {
     "data": {
      "text/plain": [
       "0.09173166089965398"
      ]
     },
     "execution_count": 21,
     "metadata": {},
     "output_type": "execute_result"
    }
   ],
   "source": [
    "leftriemann(0, 2, 4)"
   ]
  },
  {
   "cell_type": "markdown",
   "metadata": {},
   "source": [
    "Right Riemann Sum"
   ]
  },
  {
   "cell_type": "code",
   "execution_count": 22,
   "metadata": {},
   "outputs": [],
   "source": [
    "def rightriemann(a, b, n):\n",
    "    h = (b-a)/n\n",
    "    tot = np.sum(f(np.arange(a+h, b, h))) + f(b)\n",
    "    print(f(np.arange(a+h, b, h)), f(b))\n",
    "    return h*tot"
   ]
  },
  {
   "cell_type": "code",
   "execution_count": 23,
   "metadata": {},
   "outputs": [
    {
     "name": "stdout",
     "output_type": "stream",
     "text": [
      "[0.05536332 0.04       0.0256    ] 0.015625\n"
     ]
    },
    {
     "data": {
      "text/plain": [
       "0.06829416089965398"
      ]
     },
     "execution_count": 23,
     "metadata": {},
     "output_type": "execute_result"
    }
   ],
   "source": [
    "rightriemann(0, 2, 4)"
   ]
  },
  {
   "cell_type": "markdown",
   "metadata": {},
   "source": [
    "Upper or Lower Riemann Sum"
   ]
  },
  {
   "cell_type": "code",
   "execution_count": 9,
   "metadata": {},
   "outputs": [],
   "source": [
    "def up_lowriemann(a, b, n, key):\n",
    "    h = (b-a)/n\n",
    "    y = f(np.linspace(a, b, n))\n",
    "    tot = []\n",
    "    \n",
    "    if key == \"upper\":\n",
    "        for i in range(0, n-1):\n",
    "            if y[i] > y[i+1]:\n",
    "                tot.append(h*y[i])\n",
    "            else:\n",
    "                tot.append(h*y[i+1])\n",
    "    else:        \n",
    "        for i in range(0, n-1):\n",
    "            if y[i] < y[i+1]:\n",
    "                tot.append(h*y[i])\n",
    "            else:\n",
    "                tot.append(h*y[i+1])\n",
    "            \n",
    "    return np.sum(tot)"
   ]
  },
  {
   "cell_type": "code",
   "execution_count": 10,
   "metadata": {},
   "outputs": [
    {
     "data": {
      "text/plain": [
       "0.9982143960140131"
      ]
     },
     "execution_count": 10,
     "metadata": {},
     "output_type": "execute_result"
    }
   ],
   "source": [
    "up_lowriemann(0, np.pi/2, 1000, \"lower\")"
   ]
  }
 ],
 "metadata": {
  "kernelspec": {
   "display_name": "Python 3",
   "language": "python",
   "name": "python3"
  },
  "language_info": {
   "codemirror_mode": {
    "name": "ipython",
    "version": 3
   },
   "file_extension": ".py",
   "mimetype": "text/x-python",
   "name": "python",
   "nbconvert_exporter": "python",
   "pygments_lexer": "ipython3",
   "version": "3.7.4"
  }
 },
 "nbformat": 4,
 "nbformat_minor": 2
}
