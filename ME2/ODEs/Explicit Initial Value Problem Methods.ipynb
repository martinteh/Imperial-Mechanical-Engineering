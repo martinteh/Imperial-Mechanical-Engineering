{
 "cells": [
  {
   "cell_type": "markdown",
   "metadata": {},
   "source": [
    "## Explicit Methods"
   ]
  },
  {
   "cell_type": "code",
   "execution_count": 1,
   "metadata": {},
   "outputs": [
    {
     "name": "stdout",
     "output_type": "stream",
     "text": [
      "Using matplotlib backend: Qt5Agg\n",
      "Populating the interactive namespace from numpy and matplotlib\n"
     ]
    }
   ],
   "source": [
    "%pylab"
   ]
  },
  {
   "cell_type": "markdown",
   "metadata": {},
   "source": [
    "Input the initial time, the duration, the time step and the initial y value."
   ]
  },
  {
   "cell_type": "markdown",
   "metadata": {},
   "source": [
    "1st Order Differential Function"
   ]
  },
  {
   "cell_type": "code",
   "execution_count": 2,
   "metadata": {},
   "outputs": [],
   "source": [
    "def f(tn, yn):\n",
    "    fn = 1 + tn**2 + yn\n",
    "    return fn"
   ]
  },
  {
   "cell_type": "markdown",
   "metadata": {},
   "source": [
    "Forward Euler Method"
   ]
  },
  {
   "cell_type": "code",
   "execution_count": 3,
   "metadata": {},
   "outputs": [],
   "source": [
    "def FwEuler(t0, y0, h, t_end):\n",
    "    tn = np.arange(t0, t_end+h, h) # create lists\n",
    "    yn = np.ndarray(len(tn)) # create output array\n",
    "    tn[0] = t0 #set initial values\n",
    "    yn[0] = y0\n",
    "    for i in range(1, len(tn)):\n",
    "        yn[i] = yn[i-1] + h*f(tn[i-1], yn[i-1])\n",
    "        print([i], \"yn:\", yn[i-1], \"tn:\", tn[i-1], \"yn+1:\", yn[i])\n",
    "    return yn, tn"
   ]
  },
  {
   "cell_type": "code",
   "execution_count": 4,
   "metadata": {},
   "outputs": [
    {
     "name": "stdout",
     "output_type": "stream",
     "text": [
      "[1] yn: 1.0 tn: 0.0 yn+1: 1.4\n",
      "[2] yn: 1.4 tn: 0.2 yn+1: 1.888\n",
      "[3] yn: 1.888 tn: 0.4 yn+1: 2.4976\n",
      "[4] yn: 2.4976 tn: 0.6000000000000001 yn+1: 3.26912\n"
     ]
    },
    {
     "data": {
      "text/plain": [
       "(array([1.     , 1.4    , 1.888  , 2.4976 , 3.26912]),\n",
       " array([0. , 0.2, 0.4, 0.6, 0.8]))"
      ]
     },
     "execution_count": 4,
     "metadata": {},
     "output_type": "execute_result"
    }
   ],
   "source": [
    "t0 = 0\n",
    "t_end = 0.8\n",
    "h = 0.2\n",
    "y0 = 1\n",
    "FwEuler(t0, y0, h, t_end)"
   ]
  },
  {
   "cell_type": "markdown",
   "metadata": {},
   "source": [
    "4th Order Runge-Kutta Method"
   ]
  },
  {
   "cell_type": "code",
   "execution_count": 5,
   "metadata": {},
   "outputs": [],
   "source": [
    "def RK4(t0, y0, h, t_end):\n",
    "    tn = np.arange(t0, t_end+h, h)\n",
    "    yn = np.ndarray(len(tn)) # create output array\n",
    "    \n",
    "    tn[0] = t0\n",
    "    yn[0] = y0\n",
    "    \n",
    "    k1n = 0\n",
    "    k2n = 0\n",
    "    k3n = 0\n",
    "    k4n = 0\n",
    "    for i in range(1, len(tn)):\n",
    "        k1n = h*f(tn[i-1], yn[i-1])\n",
    "        k2n = h*f(tn[i-1] + 0.5*h, yn[i-1] + 0.5*k1n)\n",
    "        k3n = h*f(tn[i-1] + 0.5*h, yn[i-1] + 0.5*k2n)\n",
    "        k4n = h*f(tn[i-1] + h, yn[i-1] + k3n)\n",
    "        yn[i] = yn[i-1] + (1/6)*(k1n + 2*k2n + 2*k3n + k4n)\n",
    "        \n",
    "        print([i], \"yn:\", yn[i-1], \"tn:\", tn[i-1], \"k1n:\", k1n, \"k2n:\", k2n, \"k3n:\", k3n, \"k4n:\", k4n, \"yn+1:\", yn[i])\n",
    "    return (yn, tn)"
   ]
  },
  {
   "cell_type": "code",
   "execution_count": 6,
   "metadata": {},
   "outputs": [
    {
     "name": "stdout",
     "output_type": "stream",
     "text": [
      "[1] yn: 100.0 tn: 0 k1n: 505.0 k2n: 1798.75 k3n: 5033.125 k4n: 25795.625 yn+1: 6760.729166666666\n",
      "[2] yn: 6760.729166666666 tn: 5 k1n: 33933.64583333333 k2n: 118924.01041666664 k3n: 331399.92187499994 k4n: 1691308.255208333 yn+1: 444409.02343749994\n",
      "[3] yn: 444409.02343749994 tn: 10 k1n: 2222550.1171874995 k2n: 7779206.660156249 k3n: 21670848.01757812 k4n: 110577415.20507811 yn+1: 29061088.136393223\n",
      "[4] yn: 29061088.136393223 tn: 15 k1n: 145306570.68196613 k2n: 508573403.6368814 k3n: 1416740486.0241697 k4n: 7229009875.8028145 yn+1: 1899885125.7708738\n",
      "[5] yn: 1899885125.7708738 tn: 20 k1n: 9499427633.854368 k2n: 33247997249.74029 k3n: 92619421289.4551 k4n: 472596535206.1298 yn+1: 124205018445.50003\n",
      "[6] yn: 124205018445.50003 tn: 25 k1n: 621025095357.5001 k2n: 2173587834407.5005 k3n: 6054994682032.501 k4n: 30895998506895.004 yn+1: 8119903124300.918\n",
      "[7] yn: 8119903124300.918 tn: 30 k1n: 40599515626009.59 k2n: 142098304691814.8 k3n: 395845277356327.9 k4n: 2019825902409274.0 yn+1: 530838666812895.75\n",
      "[8] yn: 530838666812895.75 tn: 35 k1n: 2654193334070609.0 k2n: 9289676669248038.0 k3n: 2.587838500719161e+16 k4n: 1.3204611837003053e+17 yn+1: 3.4703577842976296e+16\n",
      "[9] yn: 3.4703577842976296e+16 tn: 40 k1n: 1.7351788921488947e+17 k2n: 6.073126122521142e+17 k3n: 1.691799419845176e+18 k4n: 8.632514988440772e+18 yn+1: 2.2687464014846833e+18\n",
      "[10] yn: 2.2687464014846833e+18 tn: 45 k1n: 1.1343732007423427e+19 k2n: 3.970306202598199e+19 k3n: 1.106013870723784e+20 k4n: 5.6435066736931543e+20 yn+1: 1.4831929599706127e+20\n"
     ]
    },
    {
     "data": {
      "text/plain": [
       "(array([1.00000000e+02, 6.76072917e+03, 4.44409023e+05, 2.90610881e+07,\n",
       "        1.89988513e+09, 1.24205018e+11, 8.11990312e+12, 5.30838667e+14,\n",
       "        3.47035778e+16, 2.26874640e+18, 1.48319296e+20]),\n",
       " array([ 0,  5, 10, 15, 20, 25, 30, 35, 40, 45, 50]))"
      ]
     },
     "execution_count": 6,
     "metadata": {},
     "output_type": "execute_result"
    }
   ],
   "source": [
    "t0 = 0\n",
    "t_end = 50\n",
    "h = 5\n",
    "y0 = 100\n",
    "RK4(t0, y0, h, t_end)"
   ]
  },
  {
   "cell_type": "markdown",
   "metadata": {},
   "source": [
    "Heun's Method"
   ]
  },
  {
   "cell_type": "code",
   "execution_count": 7,
   "metadata": {},
   "outputs": [],
   "source": [
    "def Heun(t0, y0, h, t_end):\n",
    "    tn = np.arange(t0, t_end+h, h)\n",
    "    yn = np.ndarray(len(tn)) # create output array\n",
    "    \n",
    "    tn[0] = t0\n",
    "    yn[0] = y0\n",
    "    \n",
    "    k1n = 0\n",
    "    k2n = 0\n",
    "    for i in range(1, len(tn)):\n",
    "        k1n = h*f(tn[i-1], yn[i-1])\n",
    "        k2n = h*f(tn[i-1] + h, yn[i-1] + k1n)\n",
    "        yn[i] = yn[i-1] + 0.5*(k1n + k2n)\n",
    "        \n",
    "        print([i], \"yn:\", yn[i-1], \"tn:\", tn[i-1], \"k1n:\", k1n, \"k2n:\", k2n, \"yn+1:\", yn[i])\n",
    "    return"
   ]
  },
  {
   "cell_type": "code",
   "execution_count": 8,
   "metadata": {},
   "outputs": [
    {
     "name": "stdout",
     "output_type": "stream",
     "text": [
      "[1] yn: 100.0 tn: 0 k1n: 505.0 k2n: 3155.0 yn+1: 1930.0\n",
      "[2] yn: 1930.0 tn: 5 k1n: 9780.0 k2n: 59055.0 yn+1: 36347.5\n",
      "[3] yn: 36347.5 tn: 10 k1n: 182242.5 k2n: 1094080.0 yn+1: 674508.75\n",
      "[4] yn: 674508.75 tn: 15 k1n: 3373673.75 k2n: 20242917.5 yn+1: 12482804.375\n",
      "[5] yn: 12482804.375 tn: 20 k1n: 62416026.875 k2n: 374497286.25 yn+1: 230939460.9375\n",
      "[6] yn: 230939460.9375 tn: 25 k1n: 1154700434.6875 k2n: 6928203983.125 yn+1: 4272391669.84375\n",
      "[7] yn: 4272391669.84375 tn: 30 k1n: 21361962854.21875 k2n: 128171778750.3125 yn+1: 79039262472.10938\n",
      "[8] yn: 79039262472.10938 tn: 35 k1n: 395196318490.5469 k2n: 2371177912818.2812 yn+1: 1462226378126.5234\n",
      "[9] yn: 1462226378126.5234 tn: 40 k1n: 7311131898637.617 k2n: 43866791393950.7 yn+1: 27051188024420.684\n",
      "[10] yn: 27051188024420.684 tn: 45 k1n: 135255940132233.42 k2n: 811535640795775.5 yn+1: 500446978488425.1\n"
     ]
    }
   ],
   "source": [
    "t0 = 0\n",
    "t_end = 50\n",
    "h = 5\n",
    "y0 = 100\n",
    "Heun(t0, y0, h, t_end)"
   ]
  },
  {
   "cell_type": "markdown",
   "metadata": {},
   "source": [
    "Adams Bashford"
   ]
  },
  {
   "cell_type": "code",
   "execution_count": 9,
   "metadata": {},
   "outputs": [],
   "source": [
    "def func(tn, yn):\n",
    "    return np.exp(-4*tn)*tn*np.sin(tn)*np.sqrt(10*yn)"
   ]
  },
  {
   "cell_type": "code",
   "execution_count": 10,
   "metadata": {},
   "outputs": [],
   "source": [
    "def AdamsBashford(t0, y0, f0, h, t_end):\n",
    "    tn = np.arange(t0, t_end+h, h)\n",
    "    yn = np.ndarray(len(tn))\n",
    "    fn = np.ndarray(len(tn))\n",
    "    \n",
    "    tn[0] = 0\n",
    "    yn[:4] = y0\n",
    "    fn[:4] = f0\n",
    "    \n",
    "    for i in range(4, len(tn)):\n",
    "        yn[i] = yn[i-1] + (h/24)*(55*fn[i-1] - 59*fn[i-2] + 37*fn[i-3] - 9*fn[i-4])\n",
    "        fn[i] = func(tn[i], yn[i])\n",
    "        \n",
    "        print([i], \"yn:\", yn[i-1], \"yn+1:\", yn[i])\n",
    "    return (yn, tn)"
   ]
  },
  {
   "cell_type": "code",
   "execution_count": 11,
   "metadata": {},
   "outputs": [
    {
     "name": "stdout",
     "output_type": "stream",
     "text": [
      "[4] yn: 8.0335 yn+1: 8.058288083333334\n",
      "[5] yn: 8.058288083333334 yn+1: 8.086540594796023\n"
     ]
    },
    {
     "data": {
      "text/plain": [
       "(array([8.        , 8.0022    , 8.0132    , 8.0335    , 8.05828808,\n",
       "        8.08654059]), array([0. , 0.1, 0.2, 0.3, 0.4, 0.5]))"
      ]
     },
     "execution_count": 11,
     "metadata": {},
     "output_type": "execute_result"
    }
   ],
   "source": [
    "y0 = [8, 8.0022, 8.0132, 8.0335]\n",
    "f0 = [0, 0.05986, 0.15982, 0.23934]\n",
    "t0 = 0\n",
    "t_end = 0.5\n",
    "h = 0.1\n",
    "AdamsBashford(t0, y0, f0, h, t_end)"
   ]
  },
  {
   "cell_type": "markdown",
   "metadata": {},
   "source": [
    "System of Linear ODEs using the Forward Euler Method"
   ]
  },
  {
   "cell_type": "code",
   "execution_count": 12,
   "metadata": {},
   "outputs": [],
   "source": [
    "def F1(t, Y0):\n",
    "    f1 = Y0[1]\n",
    "    return f1\n",
    "\n",
    "def F2(t, Y0):\n",
    "    f2 = -3*Y0[1] - 2*Y0[0]\n",
    "    return f2"
   ]
  },
  {
   "cell_type": "code",
   "execution_count": 13,
   "metadata": {},
   "outputs": [],
   "source": [
    "def FwEulerTwo(t0, Y0, h, t_end):\n",
    "    tn = np.arange(t0, t_end+h, h)\n",
    "    Yn = np.ndarray([2, len(tn)]) # form an arbitrary output array (shape row by column)\n",
    "    \n",
    "    tn[0] = t0\n",
    "    Yn[0,0] = Y0[0]\n",
    "    Yn[1,0] = Y0[1]\n",
    "    \n",
    "    for i in range(1, len(tn)):\n",
    "        Yn[0, i] = Yn[0, i-1] + h*F1(tn[i-1], Yn[:, i-1]) #function, F1\n",
    "        Yn[1, i] = Yn[1, i-1] + h*F2(tn[i-1], Yn[:, i-1]) #function, F2\n",
    "    return (tn, Yn)"
   ]
  },
  {
   "cell_type": "code",
   "execution_count": 14,
   "metadata": {},
   "outputs": [
    {
     "name": "stdout",
     "output_type": "stream",
     "text": [
      "[0.0000e+00 1.9000e-02 3.8000e-02 ... 3.9976e+01 3.9995e+01 4.0014e+01] [[ 2.00000000e+00  2.05700000e+00  2.10930700e+00 ...  2.07343090e-17\n",
      "   2.03403572e-17  1.99538904e-17]\n",
      " [ 3.00000000e+00  2.75300000e+00  2.51791300e+00 ... -2.07343090e-17\n",
      "  -2.03403572e-17 -1.99538904e-17]]\n"
     ]
    }
   ],
   "source": [
    "t0 = 0\n",
    "t_end = 40\n",
    "h = 0.019\n",
    "Y0 = [2, 3]\n",
    "(tn, Yn) = FwEulerTwo(t0, Y0, h, t_end)\n",
    "print(tn, Yn)"
   ]
  },
  {
   "cell_type": "markdown",
   "metadata": {},
   "source": [
    "Midpoint Method Q5b 2017"
   ]
  },
  {
   "cell_type": "code",
   "execution_count": 15,
   "metadata": {},
   "outputs": [],
   "source": [
    "def MidpointSystem(t0, Y0, h, t_end):   \n",
    "    tnhalf = np.arange(t0, (0.5*t_end)+0.5*h, 0.5*h)\n",
    "    tn = np.arange(t0, t_end+h, h)\n",
    "    Yn = np.ndarray([2, len(tn)]) # form an arbitrary output array (shape row by column)\n",
    "    print(tnhalf, tn)\n",
    "    \n",
    "    tn[0] = t0\n",
    "    tnhalf[0] = t0\n",
    "    Yn[0,0] = Y0[0]\n",
    "    Yn[1,0] = Y0[1]\n",
    "    \n",
    "    kni = 0\n",
    "    knj = 0\n",
    "    for i in range(1, len(tn)):\n",
    "        kni = Yn[0, i-1] + (h/2)*F1(tn[i-1],Yn[:, i-1])\n",
    "        knj = Yn[1, i-1] + (h/2)*F2(tn[i-1], Yn[:, i-1])\n",
    "        \n",
    "        Yn[0, i] = Yn[0, i-1] + h*F1(tnhalf[i-1], kni)\n",
    "        Yn[1, i] = Yn[1, i-1] + h*F2(tnhalf[i-1], knj)\n",
    "        print(Yn[0,i], Yn[1,i])\n",
    "    return (tn, Yn)"
   ]
  },
  {
   "cell_type": "code",
   "execution_count": 16,
   "metadata": {},
   "outputs": [],
   "source": [
    "t0 = 0\n",
    "t_end = 0.02\n",
    "h = 0.01\n",
    "y0 = [1, 2]"
   ]
  },
  {
   "cell_type": "code",
   "execution_count": 20,
   "metadata": {},
   "outputs": [],
   "source": [
    "def Midpoint(t0, y0, h, t_end):\n",
    "    tn = np.arange(t0, t_end+h, h)\n",
    "    yn = np.ndarray(len(tn))\n",
    "    \n",
    "    tn[0] = t0\n",
    "    yn[0] = y0\n",
    "    \n",
    "    tnhalf = []\n",
    "    for number in tn:\n",
    "        tnhalf += [number + h/2]\n",
    "    \n",
    "    kni = 0\n",
    "    for i in range(1, len(tn)):\n",
    "        kni = yn[i-1] + (h/2)*f(tn[i-1],yn[i-1])\n",
    "        yn[i] = yn[i-1] + h*f(tnhalf[i-1], kni)\n",
    "        \n",
    "        print([i-1], \"yn:\",yn[i-1], \"tn:\",tn[i-1], \"tnhalf:\",tnhalf[i-1], \"yn+1:\",yn[i])\n",
    "    return"
   ]
  },
  {
   "cell_type": "code",
   "execution_count": 21,
   "metadata": {},
   "outputs": [
    {
     "name": "stdout",
     "output_type": "stream",
     "text": [
      "[0] yn: 1.0 tn: 0.0 tnhalf: 0.05 yn+1: 1.21025\n",
      "[1] yn: 1.21025 tn: 0.1 tnhalf: 0.15000000000000002 yn+1: 1.44462625\n",
      "[2] yn: 1.44462625 tn: 0.2 tnhalf: 0.25 yn+1: 1.70776200625\n"
     ]
    }
   ],
   "source": [
    "t0 = 0\n",
    "t_end = 0.2\n",
    "h = 0.1\n",
    "y0 = 1\n",
    "Midpoint(t0, y0, h, t_end)"
   ]
  },
  {
   "cell_type": "markdown",
   "metadata": {},
   "source": []
  }
 ],
 "metadata": {
  "kernelspec": {
   "display_name": "Python 3",
   "language": "python",
   "name": "python3"
  },
  "language_info": {
   "codemirror_mode": {
    "name": "ipython",
    "version": 3
   },
   "file_extension": ".py",
   "mimetype": "text/x-python",
   "name": "python",
   "nbconvert_exporter": "python",
   "pygments_lexer": "ipython3",
   "version": "3.7.1"
  }
 },
 "nbformat": 4,
 "nbformat_minor": 2
}
