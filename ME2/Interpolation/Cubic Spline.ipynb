{
 "cells": [
  {
   "cell_type": "markdown",
   "metadata": {},
   "source": [
    "## Cubic Spline"
   ]
  },
  {
   "cell_type": "code",
   "execution_count": 2,
   "metadata": {},
   "outputs": [
    {
     "name": "stdout",
     "output_type": "stream",
     "text": [
      "Using matplotlib backend: Qt5Agg\n",
      "Populating the interactive namespace from numpy and matplotlib\n"
     ]
    }
   ],
   "source": [
    "%pylab"
   ]
  },
  {
   "cell_type": "code",
   "execution_count": 41,
   "metadata": {},
   "outputs": [],
   "source": [
    "def spline(A, b, h):\n",
    "    vn = np.linalg.solve(A, b)\n",
    "    print(\"vn list:\", vn)\n",
    "    \n",
    "    aj = 0\n",
    "    bj = 0\n",
    "    for i in range(0, len(vn)-1):\n",
    "        aj = y[i]\n",
    "        bj = vn[i]\n",
    "        cj = (3*(y[i+1]-y[i]))/((zs[i+1]-zs[i])**2) -(vn[i+1] + 2*vn[i])/(zs[i+1]-zs[i])\n",
    "        dj = (-2*(y[i+1]-y[i]))/((zs[i+1]-zs[i])**3) +(vn[i+1] + vn[i])/((zs[i+1]-zs[i])**2)\n",
    "        \n",
    "        print(\"aj:\", aj, \"bj:\", bj, \"cj:\", cj,\"dj:\", dj)\n",
    "    return "
   ]
  },
  {
   "cell_type": "code",
   "execution_count": 42,
   "metadata": {
    "scrolled": true
   },
   "outputs": [
    {
     "name": "stdout",
     "output_type": "stream",
     "text": [
      "vn list: [ 0.48415152  0.13533528 -0.21348095]\n",
      "aj: 0.0 bj: 0.48415152013885715 cj: 0.0 dj: -0.11627207896741487\n",
      "aj: 0.36787944117144233 bj: 0.13533528323661267 cj: -0.3488162369022444 dj: 0.11627207896741482\n"
     ]
    }
   ],
   "source": [
    "zs = np.linspace(-1, 1, 4)\n",
    "y = [x*np.exp(-x) for x in zs]\n",
    "MatA = [[2, 1, 0],\n",
    "        [1/h, 4/h, 1/h],\n",
    "        [0, 1, 2]]\n",
    "\n",
    "Vecb = [(3/h)*(y[1]-y[0]), (3/h)*(y[2]-y[0]), (3/h)*(y[2]-y[1])]\n",
    "spline(MatA, Vecb, h)"
   ]
  },
  {
   "cell_type": "code",
   "execution_count": 7,
   "metadata": {},
   "outputs": [
    {
     "name": "stdout",
     "output_type": "stream",
     "text": [
      "[-1.         -0.33333333  0.33333333  1.        ] [1.0, 0.5094339622641509, 0.49090909090909085, 0.3333333333333333]\n"
     ]
    }
   ],
   "source": [
    "zs = np.linspace(-1, 1, 4)\n",
    "y = [1/(2+x**3) for x in zs]\n",
    "vn = [-0.939, -0.33, -0.031, -0.339]\n",
    "print(zs, y)"
   ]
  },
  {
   "cell_type": "code",
   "execution_count": 8,
   "metadata": {},
   "outputs": [
    {
     "name": "stdout",
     "output_type": "stream",
     "text": [
      "aj: 1.0 bj: -0.939 cj: 0.000679245283018215 dj: 0.4560707547169822\n",
      "aj: 0.5094339622641509 bj: -0.33 cj: 0.9114571183533446 dj: -0.6872071183533444\n",
      "aj: 0.49090909090909085 bj: -0.031 cj: -0.46213636363636335 dj: 0.23113636363636325\n"
     ]
    }
   ],
   "source": [
    "aj = 0\n",
    "bj = 0\n",
    "for i in range(0, len(vn)-1):\n",
    "    aj = y[i]\n",
    "    bj = vn[i]\n",
    "    cj = (3*(y[i+1]-y[i]))/((zs[i+1]-zs[i])**2) -(vn[i+1] + 2*vn[i])/(zs[i+1]-zs[i])\n",
    "    dj = (-2*(y[i+1]-y[i]))/((zs[i+1]-zs[i])**3) +(vn[i+1] + vn[i])/((zs[i+1]-zs[i])**2)\n",
    "    print(\"aj:\", aj, \"bj:\", bj, \"cj:\", cj,\"dj:\", dj)"
   ]
  },
  {
   "cell_type": "code",
   "execution_count": null,
   "metadata": {},
   "outputs": [],
   "source": []
  }
 ],
 "metadata": {
  "kernelspec": {
   "display_name": "Python 3",
   "language": "python",
   "name": "python3"
  },
  "language_info": {
   "codemirror_mode": {
    "name": "ipython",
    "version": 3
   },
   "file_extension": ".py",
   "mimetype": "text/x-python",
   "name": "python",
   "nbconvert_exporter": "python",
   "pygments_lexer": "ipython3",
   "version": "3.7.1"
  }
 },
 "nbformat": 4,
 "nbformat_minor": 2
}
