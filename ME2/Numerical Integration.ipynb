{
 "cells": [
  {
   "cell_type": "markdown",
   "metadata": {},
   "source": [
    "## Numerical Integration"
   ]
  },
  {
   "cell_type": "code",
   "execution_count": 1,
   "metadata": {},
   "outputs": [
    {
     "name": "stdout",
     "output_type": "stream",
     "text": [
      "Using matplotlib backend: Qt5Agg\n",
      "Populating the interactive namespace from numpy and matplotlib\n"
     ]
    }
   ],
   "source": [
    "%pylab"
   ]
  },
  {
   "cell_type": "code",
   "execution_count": 2,
   "metadata": {},
   "outputs": [],
   "source": [
    "#Recap: Reading a file\n",
    "#cids = []\n",
    "#with open('CIDs(1).txt') as f_cids:\n",
    "    #for cid in f_cids:\n",
    "        #cid_strip = cid.rstrip('\\n')\n",
    "        #cids = cids + [int(cid_strip)]"
   ]
  },
  {
   "cell_type": "markdown",
   "metadata": {},
   "source": [
    "### Task A: Trapezoidal Rule"
   ]
  },
  {
   "cell_type": "code",
   "execution_count": 3,
   "metadata": {},
   "outputs": [],
   "source": [
    "def f(xn):\n",
    "    return 1/np.sqrt(xn**8.11 + 2019)"
   ]
  },
  {
   "cell_type": "code",
   "execution_count": 4,
   "metadata": {},
   "outputs": [],
   "source": [
    "# trapezium function, input of n intervals\n",
    "def trapezium(a,b,n):\n",
    "    h = (b-a)/n  # Width of Trapezium\n",
    "    y0 = f(a)\n",
    "    yn = f(b)\n",
    "    \n",
    "    tot = f(a) + f(b) + 2*(np.sum(f(np.arange(a+h, b, h)))) # Sum\n",
    "    print(f(a), f(np.arange(a+h, b, h)), f(b))\n",
    "    return h*tot/2"
   ]
  },
  {
   "cell_type": "code",
   "execution_count": 5,
   "metadata": {},
   "outputs": [
    {
     "name": "stdout",
     "output_type": "stream",
     "text": [
      "0.02225521737361166 [0.02225521 0.02225432 0.02223108 0.02201005] 0.020872858742103623\n"
     ]
    },
    {
     "data": {
      "text/plain": [
       "0.0441258798553117"
      ]
     },
     "execution_count": 5,
     "metadata": {},
     "output_type": "execute_result"
    }
   ],
   "source": [
    "trapezium(0, 2, 5)"
   ]
  },
  {
   "cell_type": "code",
   "execution_count": 6,
   "metadata": {
    "scrolled": true
   },
   "outputs": [
    {
     "name": "stdout",
     "output_type": "stream",
     "text": [
      "0.02225521737361166 [0.02087286 0.00357255 0.00069885 0.00021775] 8.810419690010872e-05\n",
      "0.02225521737361166 [5.30057953e-06 3.18894284e-07 6.16022649e-08 1.91853666e-08] 7.762471166286456e-09\n",
      "0.02225521737361166 [4.67006976e-10 2.80961450e-11 5.42746060e-12 1.69032456e-12] 6.839116472814306e-13\n",
      "0.02225521737361166 [4.11455970e-14 2.47540769e-15 4.78185805e-16 1.48925855e-16] 6.025595860743594e-17\n",
      "[0.07306731653673032, 0.22266625658979275, 2.225521837873738, 22.255217373700212]\n"
     ]
    },
    {
     "data": {
      "text/plain": [
       "[<matplotlib.lines.Line2D at 0x1b3cca223c8>]"
      ]
     },
     "execution_count": 6,
     "metadata": {},
     "output_type": "execute_result"
    },
    {
     "data": {
      "image/png": "[encoded data removed]",
      "text/plain": [
       "<Figure size 432x288 with 1 Axes>"
      ]
     },
     "metadata": {
      "needs_background": "light"
     },
     "output_type": "display_data"
    }
   ],
   "source": [
    "# Task A2: perform for b = 10, 100, 1000, 10000\n",
    "\n",
    "b = [10, 100, 1000, 10000]\n",
    "I = []\n",
    "\n",
    "for upper in b:\n",
    "    I += [trapezium(0, upper, 5)]\n",
    "print(I)\n",
    "\n",
    "# plot I vs b\n",
    "plt.plot(b, I)"
   ]
  },
  {
   "cell_type": "code",
   "execution_count": 7,
   "metadata": {
    "scrolled": true
   },
   "outputs": [
    {
     "name": "stdout",
     "output_type": "stream",
     "text": [
      "0.02225521737361166 [0.0222552  0.02224971 0.02210898 0.02087286 0.01642505 0.01030174\n",
      " 0.00599061 0.00357255 0.0022337  0.0014613  0.00099402 0.00069885\n",
      " 0.00050527 0.00037417 0.00028287 0.00021775 0.00017029 0.00013506\n",
      " 0.00010847] 8.810419690010872e-05\n",
      "0.02225521737361166 [2.22551974e-02 2.22497080e-02 2.21089766e-02 2.08728587e-02\n",
      " 1.64250495e-02 1.03017386e-02 5.99061172e-03 3.57254561e-03\n",
      " 2.23369928e-03 1.46129673e-03 9.94021248e-04 6.98847563e-04\n",
      " 5.05271011e-04 3.74167498e-04 2.82872998e-04 2.17745563e-04\n",
      " 1.70291724e-04 1.35063695e-04 1.08473992e-04 8.81041969e-05\n",
      " 7.22894801e-05 5.98619818e-05 4.99883914e-05 4.20648429e-05\n",
      " 3.56475215e-05 3.04060007e-05 2.60913332e-05 2.25138928e-05\n",
      " 1.95277670e-05 1.70196184e-05 1.49006381e-05 1.31006666e-05\n",
      " 1.15638526e-05 1.02454155e-05 9.10920920e-06 8.12587174e-06\n",
      " 7.27140975e-06 6.52610609e-06 5.87367126e-06 5.30057953e-06\n",
      " 4.79554624e-06 4.34911360e-06 3.95332062e-06 3.60143867e-06\n",
      " 3.28775831e-06 3.00741680e-06 2.75625767e-06 2.53071601e-06\n",
      " 2.32772422e-06 2.14463438e-06 1.97915390e-06 1.82929216e-06\n",
      " 1.69331587e-06 1.56971184e-06 1.45715559e-06 1.35448494e-06\n",
      " 1.26067776e-06 1.17483295e-06 1.09615438e-06 1.02393718e-06\n",
      " 9.57555932e-07 8.96454664e-07 8.40138146e-07 7.88164442e-07\n",
      " 7.40138458e-07 6.95706360e-07 6.54550724e-07 6.16386320e-07\n",
      " 5.80956439e-07 5.48029681e-07 5.17397145e-07 4.88869969e-07\n",
      " 4.62277158e-07 4.37463687e-07 4.14288816e-07 3.92624608e-07\n",
      " 3.72354616e-07 3.53372719e-07 3.35582092e-07 3.18894284e-07\n",
      " 3.03228405e-07 2.88510392e-07 2.74672366e-07 2.61652041e-07\n",
      " 2.49392213e-07 2.37840283e-07 2.26947845e-07 2.16670306e-07\n",
      " 2.06966548e-07 1.97798620e-07 1.89131465e-07 1.80932670e-07\n",
      " 1.73172241e-07 1.65822396e-07 1.58857386e-07 1.52253324e-07\n",
      " 1.45988031e-07 1.40040901e-07 1.34392774e-07 1.29025821e-07\n",
      " 1.23923440e-07 1.19070160e-07 1.14451552e-07 1.10054154e-07\n",
      " 1.05865396e-07 1.01873529e-07 9.80675699e-08 9.44372439e-08\n",
      " 9.09729302e-08 8.76656171e-08 8.45068577e-08 8.14887302e-08\n",
      " 7.86038004e-08 7.58450881e-08 7.32060358e-08 7.06804793e-08\n",
      " 6.82626216e-08 6.59470074e-08 6.37285011e-08 6.16022649e-08\n",
      " 5.95637395e-08 5.76086262e-08 5.57328697e-08 5.39326424e-08\n",
      " 5.22043304e-08 5.05445195e-08 4.89499828e-08 4.74176695e-08\n",
      " 4.59446933e-08 4.45283230e-08 4.31659724e-08 4.18551923e-08\n",
      " 4.05936617e-08 3.93791806e-08 3.82096625e-08 3.70831279e-08\n",
      " 3.59976983e-08 3.49515900e-08 3.39431089e-08 3.29706453e-08\n",
      " 3.20326693e-08 3.11277261e-08 3.02544318e-08 2.94114697e-08\n",
      " 2.85975866e-08 2.78115890e-08 2.70523402e-08 2.63187571e-08\n",
      " 2.56098075e-08 2.49245070e-08 2.42619169e-08 2.36211416e-08\n",
      " 2.30013264e-08 2.24016553e-08 2.18213491e-08 2.12596635e-08\n",
      " 2.07158874e-08 2.01893411e-08 1.96793746e-08 1.91853666e-08\n",
      " 1.87067226e-08 1.82428736e-08 1.77932752e-08 1.73574063e-08\n",
      " 1.69347675e-08 1.65248808e-08 1.61272880e-08 1.57415501e-08\n",
      " 1.53672461e-08 1.50039724e-08 1.46513420e-08 1.43089834e-08\n",
      " 1.39765404e-08 1.36536709e-08 1.33400465e-08 1.30353520e-08\n",
      " 1.27392845e-08 1.24515530e-08 1.21718780e-08 1.18999908e-08\n",
      " 1.16356329e-08 1.13785561e-08 1.11285214e-08 1.08852989e-08\n",
      " 1.06486677e-08 1.04184148e-08 1.01943354e-08 9.97623231e-09\n",
      " 9.76391560e-09 9.55720234e-09 9.35591631e-09 9.15988772e-09\n",
      " 8.96895292e-09 8.78295419e-09 8.60173945e-09 8.42516205e-09\n",
      " 8.25308058e-09 8.08535859e-09 7.92186446e-09] 7.762471166286456e-09\n",
      "0.02225521737361166 [2.22551974e-02 2.22497080e-02 2.21089766e-02 ... 6.88087359e-13\n",
      " 6.86691933e-13 6.85300032e-13] 6.839116472814306e-13\n",
      "0.02225521737361166 [2.22551974e-02 2.22497080e-02 2.21089766e-02 ... 6.02926232e-17\n",
      " 6.02803986e-17 6.02681770e-17] 6.025595860743594e-17\n",
      "0.07135418753332609\n"
     ]
    },
    {
     "data": {
      "text/plain": [
       "[<matplotlib.lines.Line2D at 0x1b3ccce2288>]"
      ]
     },
     "execution_count": 7,
     "metadata": {},
     "output_type": "execute_result"
    },
    {
     "data": {
      "image/png": "[encoded data removed]",
      "text/plain": [
       "<Figure size 432x288 with 1 Axes>"
      ]
     },
     "metadata": {
      "needs_background": "light"
     },
     "output_type": "display_data"
    }
   ],
   "source": [
    "# Task A3: input of spacing h\n",
    "b = [10, 100, 1000, 10000]\n",
    "I = []\n",
    "h = 0.5\n",
    "\n",
    "for upper in b:\n",
    "    I += [trapezium(0, upper, upper/h)]\n",
    "print(I[3])\n",
    "\n",
    "# plot I vs b\n",
    "plt.plot(b, I)"
   ]
  },
  {
   "cell_type": "markdown",
   "metadata": {},
   "source": [
    "### Task B: Numerical integration of diverging improper integrals"
   ]
  },
  {
   "cell_type": "code",
   "execution_count": 8,
   "metadata": {},
   "outputs": [],
   "source": [
    "# use the same code as A2 and A3 but change the function\n",
    "# we see that the function diverges to infinity"
   ]
  },
  {
   "cell_type": "markdown",
   "metadata": {},
   "source": [
    "### Task C: Trapezium rule for functions with non-equidistant nodes"
   ]
  },
  {
   "cell_type": "code",
   "execution_count": 9,
   "metadata": {},
   "outputs": [],
   "source": [
    "# we will then compute the integral with the given spacing of the provided x list"
   ]
  },
  {
   "cell_type": "code",
   "execution_count": 10,
   "metadata": {},
   "outputs": [],
   "source": [
    "def trapz(xn, yn):\n",
    "    S = 0\n",
    "    \n",
    "    # compute the area of a given trapezium with its given boundaries\n",
    "    for i in range(0, len(xn)-1):\n",
    "        S += 0.5*(yn[i+1] + yn[i])*(xn[i+1] + xn[i])\n",
    "    return S"
   ]
  },
  {
   "cell_type": "code",
   "execution_count": 13,
   "metadata": {},
   "outputs": [
    {
     "data": {
      "text/plain": [
       "0.0853243469024004"
      ]
     },
     "execution_count": 13,
     "metadata": {},
     "output_type": "execute_result"
    }
   ],
   "source": [
    "# test the function\n",
    "xn = np.array([1, 5, 12, 14, 15])\n",
    "yn = f(xn)\n",
    "trapz(xn, yn)"
   ]
  },
  {
   "cell_type": "markdown",
   "metadata": {},
   "source": [
    "### Task D: Visualising River Thames Basin in London"
   ]
  },
  {
   "cell_type": "markdown",
   "metadata": {},
   "source": [
    "North Bank: xn.txt and yn.txt \\\n",
    "South Bank: xs.txt and ys.txt"
   ]
  },
  {
   "cell_type": "code",
   "execution_count": 20,
   "metadata": {},
   "outputs": [],
   "source": [
    "# Reading the files\n",
    "\n",
    "# xn\n",
    "xn = []\n",
    "with open('xn.txt') as f_xn:\n",
    "    for x in f_xn:\n",
    "        x_strip = x.rstrip('\\n')\n",
    "        xn += [float(x_strip)]\n",
    "#print(xn)\n",
    "\n",
    "# yn\n",
    "yn = []\n",
    "with open('yn.txt') as f_yn:\n",
    "    for y in f_yn:\n",
    "        y_strip = y.rstrip('\\n')\n",
    "        yn += [float(y_strip)]\n",
    "#print(yn)\n",
    "\n",
    "# xs\n",
    "xs = []\n",
    "with open('xs.txt') as f_xs:\n",
    "    for x in f_xs:\n",
    "        x_strip = x.rstrip('\\n')\n",
    "        xs += [float(x_strip)]\n",
    "#print(xs)\n",
    "\n",
    "# ys\n",
    "ys = []\n",
    "with open('ys.txt') as f_ys:\n",
    "    for y in f_ys:\n",
    "        y_strip = y.rstrip('\\n')\n",
    "        ys += [float(y_strip)]\n",
    "#print(ys)"
   ]
  },
  {
   "cell_type": "code",
   "execution_count": 22,
   "metadata": {},
   "outputs": [
    {
     "data": {
      "text/plain": [
       "(-1657.4516500000002, 34375.87865, 246.33999999999997, 6240.46)"
      ]
     },
     "execution_count": 22,
     "metadata": {},
     "output_type": "execute_result"
    },
    {
     "data": {
      "image/png": "[encoded data removed]",
      "text/plain": [
       "<Figure size 432x288 with 1 Axes>"
      ]
     },
     "metadata": {
      "needs_background": "light"
     },
     "output_type": "display_data"
    }
   ],
   "source": [
    "# plot the curves of the two banks\n",
    "plt.plot(xn,yn,xs,ys)\n",
    "plt.axis('equal')"
   ]
  },
  {
   "cell_type": "code",
   "execution_count": 24,
   "metadata": {},
   "outputs": [
    {
     "name": "stdout",
     "output_type": "stream",
     "text": [
      "663.4634012823963\n"
     ]
    }
   ],
   "source": [
    "# compute the area of the river from given data\n",
    "Area = trapz(xn,yn) - trapz(xs,ys)\n",
    "print(Area*1.0e-6)"
   ]
  },
  {
   "cell_type": "markdown",
   "metadata": {},
   "source": [
    "### Clinic Tutorial: Double Integral"
   ]
  },
  {
   "cell_type": "markdown",
   "metadata": {},
   "source": [
    "1. Take the inner integral of function z and integrate with respect to y \n",
    "2. Take the resulting integral G and integrate it with respect to x"
   ]
  },
  {
   "cell_type": "code",
   "execution_count": 27,
   "metadata": {},
   "outputs": [
    {
     "name": "stdout",
     "output_type": "stream",
     "text": [
      "5720021.999999633\n"
     ]
    }
   ],
   "source": [
    "# Set the x and y arrays\n",
    "x = np.arange(2, 4+0.01, 0.01)\n",
    "y = np.arange(2, 5+0.01, 0.01)\n",
    "\n",
    "#integrate along y first for all points of x\n",
    "#need an array to store these integrals\n",
    "\n",
    "G = np.ndarray(len(x))\n",
    "for i in range(0, len(x)):\n",
    "    # compute z function along y for given x[i]\n",
    "    z = (x[i] - 2)**2 + (y - 3)\n",
    "    \n",
    "    # integrate\n",
    "    G[i] = trapz(y, z)\n",
    "\n",
    "#now integrate all G(x) along x in range [2,4]\n",
    "I = trapz(x, G)\n",
    "print(I)"
   ]
  }
 ],
 "metadata": {
  "kernelspec": {
   "display_name": "Python 3",
   "language": "python",
   "name": "python3"
  },
  "language_info": {
   "codemirror_mode": {
    "name": "ipython",
    "version": 3
   },
   "file_extension": ".py",
   "mimetype": "text/x-python",
   "name": "python",
   "nbconvert_exporter": "python",
   "pygments_lexer": "ipython3",
   "version": "3.7.4"
  }
 },
 "nbformat": 4,
 "nbformat_minor": 2
}
