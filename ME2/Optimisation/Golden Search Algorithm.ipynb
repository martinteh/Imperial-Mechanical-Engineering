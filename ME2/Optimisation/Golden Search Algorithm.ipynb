{
 "cells": [
  {
   "cell_type": "markdown",
   "metadata": {},
   "source": [
    "## Golden Search Algorithm"
   ]
  },
  {
   "cell_type": "code",
   "execution_count": 3,
   "metadata": {},
   "outputs": [
    {
     "name": "stdout",
     "output_type": "stream",
     "text": [
      "Using matplotlib backend: Qt5Agg\n",
      "Populating the interactive namespace from numpy and matplotlib\n"
     ]
    }
   ],
   "source": [
    "%pylab"
   ]
  },
  {
   "cell_type": "code",
   "execution_count": 4,
   "metadata": {},
   "outputs": [],
   "source": [
    "def func(x):\n",
    "    return (-2*x)*np.exp(-(x)**2)"
   ]
  },
  {
   "cell_type": "code",
   "execution_count": 7,
   "metadata": {},
   "outputs": [],
   "source": [
    "def GoldenSearch(N, a, b, er, x_inf):\n",
    "    R = 0.618033989\n",
    "    e, n = 1e6, 1 #initial error and iteration number\n",
    "    \n",
    "    while (abs(e) > er) and (n < N):\n",
    "        d = R*(b-a)        \n",
    "        \n",
    "        if func( (a+d) ) < func( (b-d) ):\n",
    "            a = b-d\n",
    "            \n",
    "        else:\n",
    "            b = a+d\n",
    "        \n",
    "        e = (x_inf - b)/x_inf\n",
    "        \n",
    "        print(f\"It {n}, xu = {round(b,5)}, e_r = {round(e,5)}\")\n",
    "        \n",
    "        n += 1\n",
    "        \n",
    "        continue\n",
    "    print()\n",
    "    return\n",
    "\n",
    "#x_inf is the analytical inflection point"
   ]
  },
  {
   "cell_type": "markdown",
   "metadata": {},
   "source": [
    "##### N = max. number of iterations\n",
    "##### a = lower bound of interval\n",
    "##### b = upper bound of interval\n",
    "##### er = relative error\n",
    "##### x_inf = analytical inflection point"
   ]
  },
  {
   "cell_type": "code",
   "execution_count": 8,
   "metadata": {},
   "outputs": [
    {
     "name": "stdout",
     "output_type": "stream",
     "text": [
      "It 1, xn = 1, e_r = -0.41421\n",
      "It 2, xn = 1, e_r = -0.41421\n",
      "It 3, xn = 0.8541, e_r = -0.20788\n",
      "It 4, xn = 0.76393, e_r = -0.08036\n",
      "It 5, xn = 0.76393, e_r = -0.08036\n",
      "It 6, xn = 0.72949, e_r = -0.03165\n",
      "It 7, xn = 0.72949, e_r = -0.03165\n",
      "It 8, xn = 0.71633, e_r = -0.01305\n",
      "It 9, xn = 0.71633, e_r = -0.01305\n",
      "It 10, xn = 0.71131, e_r = -0.00594\n",
      "\n"
     ]
    }
   ],
   "source": [
    "GoldenSearch(1000, 0, 1, 0.01, 0.707106781) "
   ]
  },
  {
   "cell_type": "code",
   "execution_count": null,
   "metadata": {},
   "outputs": [],
   "source": []
  }
 ],
 "metadata": {
  "kernelspec": {
   "display_name": "Python 3",
   "language": "python",
   "name": "python3"
  },
  "language_info": {
   "codemirror_mode": {
    "name": "ipython",
    "version": 3
   },
   "file_extension": ".py",
   "mimetype": "text/x-python",
   "name": "python",
   "nbconvert_exporter": "python",
   "pygments_lexer": "ipython3",
   "version": "3.7.1"
  }
 },
 "nbformat": 4,
 "nbformat_minor": 2
}
