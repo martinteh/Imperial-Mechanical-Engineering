{
 "cells": [
  {
   "cell_type": "markdown",
   "metadata": {},
   "source": [
    "## Numerical PDEs: 2D Laplace Equation"
   ]
  },
  {
   "cell_type": "code",
   "execution_count": 2,
   "metadata": {},
   "outputs": [
    {
     "name": "stdout",
     "output_type": "stream",
     "text": [
      "Using matplotlib backend: Qt5Agg\n",
      "Populating the interactive namespace from numpy and matplotlib\n"
     ]
    },
    {
     "name": "stderr",
     "output_type": "stream",
     "text": [
      "D:\\Anaconda\\lib\\site-packages\\IPython\\core\\magics\\pylab.py:160: UserWarning: pylab import has clobbered these variables: ['e']\n",
      "`%matplotlib` prevents importing * from pylab and numpy\n",
      "  \"\\n`%matplotlib` prevents importing * from pylab and numpy\"\n"
     ]
    }
   ],
   "source": [
    "%pylab"
   ]
  },
  {
   "cell_type": "code",
   "execution_count": 3,
   "metadata": {},
   "outputs": [
    {
     "name": "stdout",
     "output_type": "stream",
     "text": [
      "[61.57175399 32.18678815 64.10022779 67.65375854 37.17539863 52.41457859]\n"
     ]
    }
   ],
   "source": [
    "# exact matrix inversion\n",
    "A = [[4, -1, -1, 0, 0, 0],[-1, 4, 0, 0, -1, 0],[-1, 0, 4, -1, -1, 0],[0, 0, -2, 4, 0, -1], [0, -1, -1, 0, 4, -1], [0, 0, 0, -2, -2, 4]]\n",
    "b = [150, 30, 90, 90, 0, 0]\n",
    "x_true = np.linalg.solve(A, b)\n",
    "print(x_true)"
   ]
  },
  {
   "cell_type": "code",
   "execution_count": 5,
   "metadata": {},
   "outputs": [
    {
     "name": "stdout",
     "output_type": "stream",
     "text": [
      "Initial x values: [0, 0, 0, 0, 0, 0]\n",
      "x_values: [37.5, 16.875, 31.875, 38.4375, 12.1875, 25.3125]\n",
      "relative error [0.3909544950055494, 0.47571656050955413, 0.5027318763326226, 0.43184974747474736]\n",
      "x_values: [49.6875, 22.96875, 47.578125, 52.6171875, 23.96484375, 38.291015625]\n",
      "relative error [0.19301470588235295, 0.2863919851380042, 0.25775419776119396, 0.22225773358585846]\n",
      "x_values: [55.13671875, 27.275390625, 55.4296875, 59.78759765625, 30.2490234375, 45.018310546875]\n",
      "relative error [0.10451278093784684, 0.15259048235137998, 0.13526535847547969, 0.11627086292613621]\n",
      "x_values: [58.17626953125, 29.6063232421875, 59.55322265625, 63.53118896484375, 33.544464111328125, 48.53782653808594]\n",
      "relative error [0.055146787857241954, 0.08017155673600047, 0.07093586545509055, 0.06093629779237674]\n",
      "x_values: [59.789886474609375, 30.833587646484375, 61.71638488769531, 65.49264907836914, 35.271949768066406, 50.38229942321777]\n",
      "relative error [0.028939690626950957, 0.0420421106293955, 0.03718930470155493, 0.031943671871917254]\n",
      "x_values: [60.63749313354492, 31.477360725402832, 62.85052299499512, 66.520836353302, 36.17754578590393, 51.349191069602966]\n",
      "relative error [0.015173529943536044, 0.022040951277293403, 0.019496105373032743, 0.016745886899003914]\n",
      "x_values: [61.08197093009949, 31.814879179000854, 63.445088267326355, 67.05984190106392, 36.652289628982544, 51.85606576502323]\n",
      "relative error [0.007954671168565484, 0.011554709159138282, 0.010220549063387633, 0.00877876785969477]\n"
     ]
    }
   ],
   "source": [
    "def seidel(a, x ,b): \n",
    "    #Finding length of a(3)        \n",
    "    n = len(a)                    \n",
    "    # for loop for 3 times as to calculate x, y , z \n",
    "    for j in range(0, n):         \n",
    "        # temp variable d to store b[j] \n",
    "        d = b[j]                   \n",
    "          \n",
    "        # to calculate respective xi, yi, zi \n",
    "        for i in range(0, n):      \n",
    "            if(j != i): \n",
    "                d-=a[j][i] * x[i] \n",
    "        # updating the value of our solution         \n",
    "        x[j] = d / a[j][j] \n",
    "    # returning our updated solution            \n",
    "    return x     \n",
    "   \n",
    "# int(input())input as number of variable to be solved                                            \n",
    "a = []                             \n",
    "b = []         \n",
    "# initial solution depending on n(here n=3)                      \n",
    "x = [0, 0, 0, 0, 0, 0] #input the starting guesses                      \n",
    "a = [[4, -1, -1, 0, 0, 0],[-1, 4, 0, 0, -1, 0],[-1, 0, 4, -1, -1, 0],[0, 0, -2, 4, 0, -1], [0, -1, -1, 0, 4, -1], [0, 0, 0, -2, -2, 4]] #matrixA\n",
    "b = [150, 30, 90, 90, 0, 0] #vecb\n",
    "n = len(b)\n",
    "print(\"Initial x values:\",x) \n",
    "\n",
    "es = 0.01 # desired error\n",
    "e = [2000, 10000, 9000, 8000] # initial large errors\n",
    "#loop run for m times depending on m the error value\n",
    "N = 100 #max loops = 100 to stop diverging\n",
    "while min(e) > es and N > 0:             \n",
    "    x = seidel(a, x, b) \n",
    "    #print each time the updated solution \n",
    "    print(\"x_values:\",x)\n",
    "    for i in range(0, len(e)):\n",
    "        e[i] = abs((x[i] - x_true[i])/x_true[i])\n",
    "    N -= 1    \n",
    "    print(\"relative error\",e)"
   ]
  },
  {
   "cell_type": "code",
   "execution_count": 31,
   "metadata": {},
   "outputs": [],
   "source": [
    "def jacobi(A,b,N,x,tol):\n",
    "    \"\"\"Solves the equation Ax=b via the Jacobi iterative method.\"\"\"\n",
    "    # Create an initial guess if needed                                                                                                                                                            \n",
    "    if x is None:\n",
    "        x = zeros(len(A[0]))\n",
    "\n",
    "    # Create a vector of the diagonal elements of A                                                                                                                                                \n",
    "    # and subtract them from A                                                                                                                                                                     \n",
    "    D = diag(A)\n",
    "    R = A - diagflat(D)\n",
    "\n",
    "        # Iterate for N times                                                                                                                                                                          \n",
    "    for i in range(N):\n",
    "        x2 = (b - dot(R,x)) / D\n",
    "        delta = np.linalg.norm(x - x2)\n",
    "        print(x2)\n",
    "        if delta < tol:\n",
    "            return x2\n",
    "        x = x2\n",
    "\n",
    "    warnings.warn(f\"did not converge within {N} iterations\")\n",
    "\n",
    "    return x"
   ]
  },
  {
   "cell_type": "code",
   "execution_count": 32,
   "metadata": {},
   "outputs": [
    {
     "name": "stdout",
     "output_type": "stream",
     "text": [
      "[  0.5  11.   11.  -59.5]\n",
      "[  6.    -3.75  -3.75 -54.  ]\n",
      "[ -1.375  -1.     -1.    -61.375]\n",
      "[  0.      -4.6875  -4.6875 -60.    ]\n",
      "[ -1.84375  -4.       -4.      -61.84375]\n",
      "[ -1.5       -4.921875  -4.921875 -61.5     ]\n",
      "[ -1.9609375  -4.75       -4.75      -61.9609375]\n",
      "[ -1.875       -4.98046875  -4.98046875 -61.875     ]\n",
      "[ -1.99023438  -4.9375      -4.9375     -61.99023438]\n",
      "[ -1.96875     -4.99511719  -4.99511719 -61.96875   ]\n",
      "[ -1.99755859  -4.984375    -4.984375   -61.99755859]\n",
      "[ -1.9921875  -4.9987793  -4.9987793 -61.9921875]\n",
      "[ -1.99938965  -4.99609375  -4.99609375 -61.99938965]\n",
      "[ -1.99804688  -4.99969482  -4.99969482 -61.99804688]\n"
     ]
    },
    {
     "data": {
      "text/plain": [
       "array([ -1.99804688,  -4.99969482,  -4.99969482, -61.99804688])"
      ]
     },
     "execution_count": 32,
     "metadata": {},
     "output_type": "execute_result"
    }
   ],
   "source": [
    "a = [[4, -1, -1, 0],[-1, 4, 0, -1],[-1, 0, 4, -1], [0, -1, -1, 4]]\n",
    "b = [2, 44, 44, -238]\n",
    "x = [0, 0, 0, 0]\n",
    "N = 100\n",
    "tol = 0.01\n",
    "jacobi(A, b, N, x,tol)"
   ]
  }
 ],
 "metadata": {
  "kernelspec": {
   "display_name": "Python 3",
   "language": "python",
   "name": "python3"
  },
  "language_info": {
   "codemirror_mode": {
    "name": "ipython",
    "version": 3
   },
   "file_extension": ".py",
   "mimetype": "text/x-python",
   "name": "python",
   "nbconvert_exporter": "python",
   "pygments_lexer": "ipython3",
   "version": "3.7.1"
  }
 },
 "nbformat": 4,
 "nbformat_minor": 2
}
