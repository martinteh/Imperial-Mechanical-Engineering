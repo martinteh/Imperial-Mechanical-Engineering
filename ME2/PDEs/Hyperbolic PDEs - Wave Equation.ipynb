{
 "cells": [
  {
   "cell_type": "markdown",
   "metadata": {},
   "source": [
    "## Hyperbolic PDES - The Wave Equation - Explicit Method"
   ]
  },
  {
   "cell_type": "code",
   "execution_count": 1,
   "metadata": {},
   "outputs": [
    {
     "name": "stdout",
     "output_type": "stream",
     "text": [
      "Using matplotlib backend: Qt5Agg\n",
      "Populating the interactive namespace from numpy and matplotlib\n"
     ]
    }
   ],
   "source": [
    "%pylab"
   ]
  },
  {
   "cell_type": "markdown",
   "metadata": {},
   "source": [
    "We are going to solve the Non-Dimensionalised Wave Equation with the explicit finite difference method."
   ]
  },
  {
   "cell_type": "markdown",
   "metadata": {},
   "source": [
    "\\begin{equation}\n",
    "\\frac{\\partial^2u}{\\partial t^2} = \\frac{\\partial^2u}{\\partial x^2}\n",
    "\\end{equation}\n",
    "\\begin{equation}\n",
    "\\text{ for } 0 \\leq x \\leq 1 \\text{ and } 0 \\leq t \\leq 2\n",
    "\\end{equation}"
   ]
  },
  {
   "cell_type": "markdown",
   "metadata": {},
   "source": [
    "Subject to the following conditions:\n",
    "\\begin{gather}\n",
    "u(t, 0) = u(t, 1) = 0\\ \\ \\ \\   \\forall t\\\\\n",
    "u(0, x) = f(x) = sin(\\pi x)\\ \\ \\ \\   \\forall x\\\\\n",
    "u_t(0, x) = 0\\ \\ \\ \\    \\forall x\n",
    "\\end{gather}"
   ]
  },
  {
   "cell_type": "markdown",
   "metadata": {},
   "source": [
    "## Step 1: Create Grid Points"
   ]
  },
  {
   "cell_type": "code",
   "execution_count": 2,
   "metadata": {},
   "outputs": [
    {
     "name": "stdout",
     "output_type": "stream",
     "text": [
      "5\n",
      "[0.  0.2 0.4 0.6 0.8 1. ]\n"
     ]
    }
   ],
   "source": [
    "# Length of x\n",
    "Lx = 1\n",
    "\n",
    "# Distance between columns\n",
    "h = 0.2\n",
    "\n",
    "# How many columns do we need? (including phantom columns)\n",
    "nx = int((Lx - 0)/h)\n",
    "\n",
    "# x_Positions (where is it on the length scale?)\n",
    "x_grid = np.arange(0, Lx + h, h)\n",
    "\n",
    "print(nx)\n",
    "print(x_grid)"
   ]
  },
  {
   "cell_type": "code",
   "execution_count": 3,
   "metadata": {},
   "outputs": [],
   "source": [
    "# Length of y\n",
    "Lt = 2\n",
    "\n",
    "# Distance between rows\n",
    "k = 0.2\n",
    "\n",
    "# How many rows do we need? (including phantom rows)\n",
    "nt = int((Lt - 0)/k)\n",
    "\n",
    "# t_Positions\n",
    "t_grid = np.arange(0, Lt + k, k)"
   ]
  },
  {
   "cell_type": "markdown",
   "metadata": {},
   "source": [
    "## Step 2: Condition"
   ]
  },
  {
   "cell_type": "code",
   "execution_count": 4,
   "metadata": {},
   "outputs": [
    {
     "name": "stdout",
     "output_type": "stream",
     "text": [
      "[[0. 0. 0. 0. 0. 0.]\n",
      " [0. 0. 0. 0. 0. 0.]\n",
      " [0. 0. 0. 0. 0. 0.]\n",
      " [0. 0. 0. 0. 0. 0.]\n",
      " [0. 0. 0. 0. 0. 0.]\n",
      " [0. 0. 0. 0. 0. 0.]\n",
      " [0. 0. 0. 0. 0. 0.]\n",
      " [0. 0. 0. 0. 0. 0.]\n",
      " [0. 0. 0. 0. 0. 0.]\n",
      " [0. 0. 0. 0. 0. 0.]\n",
      " [0. 0. 0. 0. 0. 0.]]\n"
     ]
    }
   ],
   "source": [
    "# create matrices of values ([t = row, x = column])\n",
    "uval = np.zeros([len(t_grid), len(x_grid)])\n",
    "print(uval)"
   ]
  },
  {
   "cell_type": "code",
   "execution_count": 5,
   "metadata": {},
   "outputs": [
    {
     "name": "stdout",
     "output_type": "stream",
     "text": [
      "[[0.         0.58778525 0.95105652 0.95105652 0.58778525 0.        ]\n",
      " [0.         0.         0.         0.         0.         0.        ]\n",
      " [0.         0.         0.         0.         0.         0.        ]\n",
      " [0.         0.         0.         0.         0.         0.        ]\n",
      " [0.         0.         0.         0.         0.         0.        ]\n",
      " [0.         0.         0.         0.         0.         0.        ]\n",
      " [0.         0.         0.         0.         0.         0.        ]\n",
      " [0.         0.         0.         0.         0.         0.        ]\n",
      " [0.         0.         0.         0.         0.         0.        ]\n",
      " [0.         0.         0.         0.         0.         0.        ]\n",
      " [0.         0.         0.         0.         0.         0.        ]]\n"
     ]
    }
   ],
   "source": [
    "# initial condition #1: u(x = column, t = row = 0) = f(x_i) = sin(pi*x_i)\n",
    "for i in range(1, nx):\n",
    "    uval[0, i] = np.sin(np.pi*x_grid[i])\n",
    "print(uval)"
   ]
  },
  {
   "cell_type": "code",
   "execution_count": 6,
   "metadata": {},
   "outputs": [
    {
     "name": "stdout",
     "output_type": "stream",
     "text": [
      "[[0.         0.58778525 0.95105652 0.95105652 0.58778525 0.        ]\n",
      " [0.         0.47552826 0.76942088 0.76942088 0.47552826 0.        ]\n",
      " [0.         0.         0.         0.         0.         0.        ]\n",
      " [0.         0.         0.         0.         0.         0.        ]\n",
      " [0.         0.         0.         0.         0.         0.        ]\n",
      " [0.         0.         0.         0.         0.         0.        ]\n",
      " [0.         0.         0.         0.         0.         0.        ]\n",
      " [0.         0.         0.         0.         0.         0.        ]\n",
      " [0.         0.         0.         0.         0.         0.        ]\n",
      " [0.         0.         0.         0.         0.         0.        ]\n",
      " [0.         0.         0.         0.         0.         0.        ]]\n"
     ]
    }
   ],
   "source": [
    "# initial condition #1: u(x = column, t = row = 0) = sin(pi*x)\n",
    "for i in range(1, nx):\n",
    "    uval[0, i] = np.sin(np.pi*x_grid[i])\n",
    "\n",
    "# initial condition #2: u(x = column, t = row = 1) = 0.5(u(i+1,0) + u(i-1, 0))\n",
    "for j in range(1, nx):\n",
    "    uval[1, j] = 0.5*(uval[0, j+1] + uval[0, j-1])\n",
    "print(uval)"
   ]
  },
  {
   "cell_type": "markdown",
   "metadata": {},
   "source": [
    "## Step 3: Loop"
   ]
  },
  {
   "cell_type": "code",
   "execution_count": 12,
   "metadata": {},
   "outputs": [],
   "source": [
    "for n in range(1, nt): #t (keep value u(0, j) = 0 and u(5, j) = 0, boundary condition included in the loop)\n",
    "    for i in range(1, nx): #x\n",
    "            uval[n+1, i] = uval[n, i-1] + uval[n, i+1] - uval[n-1, i]"
   ]
  },
  {
   "cell_type": "code",
   "execution_count": 11,
   "metadata": {},
   "outputs": [
    {
     "name": "stdout",
     "output_type": "stream",
     "text": [
      "[[ 0.          0.58778525  0.95105652  0.95105652  0.58778525  0.        ]\n",
      " [ 0.          0.47552826  0.76942088  0.76942088  0.47552826  0.        ]\n",
      " [ 0.          0.18163563  0.29389263  0.29389263  0.18163563  0.        ]\n",
      " [ 0.         -0.18163563 -0.29389263 -0.29389263 -0.18163563  0.        ]\n",
      " [ 0.         -0.47552826 -0.76942088 -0.76942088 -0.47552826  0.        ]\n",
      " [ 0.         -0.58778525 -0.95105652 -0.95105652 -0.58778525  0.        ]\n",
      " [ 0.         -0.47552826 -0.76942088 -0.76942088 -0.47552826  0.        ]\n",
      " [ 0.         -0.18163563 -0.29389263 -0.29389263 -0.18163563  0.        ]\n",
      " [ 0.          0.18163563  0.29389263  0.29389263  0.18163563  0.        ]\n",
      " [ 0.          0.47552826  0.76942088  0.76942088  0.47552826  0.        ]\n",
      " [ 0.          0.58778525  0.95105652  0.95105652  0.58778525  0.        ]]\n"
     ]
    }
   ],
   "source": [
    "print(uval)"
   ]
  },
  {
   "cell_type": "code",
   "execution_count": 15,
   "metadata": {},
   "outputs": [
    {
     "data": {
      "image/png": "[encoded data removed]",
      "text/plain": [
       "<Figure size 432x288 with 1 Axes>"
      ]
     },
     "metadata": {
      "needs_background": "light"
     },
     "output_type": "display_data"
    }
   ],
   "source": [
    "for i in range(0, nt):\n",
    "    plt.plot(x_grid, uval[i,:])"
   ]
  },
  {
   "cell_type": "code",
   "execution_count": null,
   "metadata": {},
   "outputs": [],
   "source": []
  }
 ],
 "metadata": {
  "kernelspec": {
   "display_name": "Python 3",
   "language": "python",
   "name": "python3"
  },
  "language_info": {
   "codemirror_mode": {
    "name": "ipython",
    "version": 3
   },
   "file_extension": ".py",
   "mimetype": "text/x-python",
   "name": "python",
   "nbconvert_exporter": "python",
   "pygments_lexer": "ipython3",
   "version": "3.7.1"
  }
 },
 "nbformat": 4,
 "nbformat_minor": 2
}
