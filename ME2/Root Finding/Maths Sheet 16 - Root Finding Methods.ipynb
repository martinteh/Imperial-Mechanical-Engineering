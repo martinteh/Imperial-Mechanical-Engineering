{
 "cells": [
  {
   "cell_type": "markdown",
   "metadata": {},
   "source": [
    "## Sheet 16 - Root Finding Methods"
   ]
  },
  {
   "cell_type": "code",
   "execution_count": 7,
   "metadata": {},
   "outputs": [
    {
     "name": "stdout",
     "output_type": "stream",
     "text": [
      "Using matplotlib backend: Qt5Agg\n",
      "Populating the interactive namespace from numpy and matplotlib\n"
     ]
    },
    {
     "name": "stderr",
     "output_type": "stream",
     "text": [
      "D:\\Anaconda\\lib\\site-packages\\IPython\\core\\magics\\pylab.py:160: UserWarning: pylab import has clobbered these variables: ['f', 'e']\n",
      "`%matplotlib` prevents importing * from pylab and numpy\n",
      "  \"\\n`%matplotlib` prevents importing * from pylab and numpy\"\n"
     ]
    }
   ],
   "source": [
    "%pylab"
   ]
  },
  {
   "cell_type": "code",
   "execution_count": 9,
   "metadata": {},
   "outputs": [],
   "source": [
    "# define the function\n",
    "def f(h):\n",
    "    y = h*np.sin(h) + 2*h -2\n",
    "    return y"
   ]
  },
  {
   "cell_type": "code",
   "execution_count": 10,
   "metadata": {},
   "outputs": [],
   "source": [
    "# set the variables\n",
    "R = 2\n",
    "V = 25\n",
    "\n",
    "# analytical solution\n",
    "ha = 2.68261"
   ]
  },
  {
   "cell_type": "code",
   "execution_count": 11,
   "metadata": {},
   "outputs": [],
   "source": [
    "# set the interval\n",
    "a = 0\n",
    "b = 5.1"
   ]
  },
  {
   "cell_type": "code",
   "execution_count": 12,
   "metadata": {},
   "outputs": [],
   "source": [
    "# set the error\n",
    "e_set = 0.001\n",
    "e = 10000"
   ]
  },
  {
   "cell_type": "code",
   "execution_count": 13,
   "metadata": {},
   "outputs": [
    {
     "name": "stdout",
     "output_type": "stream",
     "text": [
      "[2.55, 1.275, 0.6375, 0.9562499999999999]\n",
      "[0.13261000000000012, 1.40761, 2.04511, 1.7263600000000001]\n"
     ]
    }
   ],
   "source": [
    "# 1a specific number of iterations given\n",
    "x_n = []\n",
    "e_abs = []\n",
    "for i in range(0, 4):\n",
    "    y1 = f(a) #-ve\n",
    "    y2 = f(b) #+ve\n",
    "    n = (a + b)/2\n",
    "    y3 = f(n)\n",
    "    if y1 * y3 < 0:\n",
    "        b = n\n",
    "    else:\n",
    "        a = n\n",
    "    x_n += [n]\n",
    "    e_abs += [abs(ha - n)]\n",
    "    \n",
    "print(x_n)\n",
    "print(e_abs)"
   ]
  },
  {
   "cell_type": "code",
   "execution_count": 7,
   "metadata": {},
   "outputs": [
    {
     "name": "stdout",
     "output_type": "stream",
     "text": [
      "[2.625, 2.6875, 2.65625, 2.671875, 2.6796875, 2.68359375]\n",
      "[0.05760999999999994, 0.004890000000000061, 0.02635999999999994, 0.010734999999999939, 0.002922499999999939, 0.000983750000000061]\n",
      "6\n"
     ]
    }
   ],
   "source": [
    "x_n = []\n",
    "error = []\n",
    "while e > e_set:\n",
    "    y1 = f(a) #-ve\n",
    "    y2 = f(b) #+ve\n",
    "    n = (a + b)/2\n",
    "    y3 = f(n)\n",
    "    if y1 * y3 < 0:\n",
    "        b = n\n",
    "    else:\n",
    "        a = n\n",
    "    x_n += [n]\n",
    "    e = abs(ha - n)\n",
    "    error += [e]\n",
    "print(x_n)\n",
    "print(error)\n",
    "print(len(x_n)) # this is the number of iterations needed"
   ]
  },
  {
   "cell_type": "markdown",
   "metadata": {},
   "source": [
    "### 1c False Position Method"
   ]
  },
  {
   "cell_type": "code",
   "execution_count": 8,
   "metadata": {},
   "outputs": [],
   "source": [
    "R = 2\n",
    "a = 0\n",
    "b = 2*R"
   ]
  },
  {
   "cell_type": "code",
   "execution_count": 9,
   "metadata": {},
   "outputs": [
    {
     "name": "stdout",
     "output_type": "stream",
     "text": [
      "[2.984155182973038, 2.6526563816657007, 2.6847115256199277, 2.682620801357509]\n"
     ]
    }
   ],
   "source": [
    "xc = []\n",
    "for i in range(0, 4):\n",
    "    c = b - (f(b)*(b-a))/(f(b) - f(a))\n",
    "    if f(a)*f(c) < 0:\n",
    "        b = c\n",
    "    else:\n",
    "        a = c\n",
    "    xc += [c]\n",
    "print(xc)"
   ]
  },
  {
   "cell_type": "code",
   "execution_count": 10,
   "metadata": {},
   "outputs": [],
   "source": [
    "x = np.arange(0, 4, 0.01)\n",
    "y = f(x)"
   ]
  },
  {
   "cell_type": "code",
   "execution_count": 11,
   "metadata": {},
   "outputs": [
    {
     "data": {
      "text/plain": [
       "[<matplotlib.lines.Line2D at 0x7fd90f0>]"
      ]
     },
     "execution_count": 11,
     "metadata": {},
     "output_type": "execute_result"
    },
    {
     "data": {
      "image/png": "[encoded data removed]",
      "text/plain": [
       "<Figure size 432x288 with 1 Axes>"
      ]
     },
     "metadata": {
      "needs_background": "light"
     },
     "output_type": "display_data"
    }
   ],
   "source": [
    "plt.plot(x, y)"
   ]
  },
  {
   "cell_type": "markdown",
   "metadata": {},
   "source": [
    "### 1e Newton Raphson Method (w/ analytical differentiation)"
   ]
  },
  {
   "cell_type": "code",
   "execution_count": 12,
   "metadata": {},
   "outputs": [],
   "source": [
    "# f(x)\n",
    "def func(a):\n",
    "    return (np.pi*a**2)*((6-a)/3)-25"
   ]
  },
  {
   "cell_type": "code",
   "execution_count": 38,
   "metadata": {},
   "outputs": [],
   "source": [
    "# derivative of f(x)\n",
    "def fprime(a):\n",
    "    return 2*np.pi*a((6-a)/3) - np.pi*(a**2)/3"
   ]
  },
  {
   "cell_type": "code",
   "execution_count": 39,
   "metadata": {},
   "outputs": [],
   "source": [
    "def NewtonRaphson(N,a0,er):\n",
    "\n",
    "    e, n = 1e6, 1\n",
    "    a = a0\n",
    "    aOld = 0\n",
    "    print(f\"It {0}, an = {round(a0,5)}, f(a) = {round(func(a),5)}, fprime(a) = {round(fprime(a),5)}, e_r = {round(e,5)}\")\n",
    "    while (abs(e) > er) and (n < N): #two limits in case the algorithm diverges\n",
    "        aOld = a\n",
    "        a -= (func(a) / fprime(a))\n",
    "        e = ((a-aOld)/a)*100\n",
    "        print(f\"It {n}, an = {round(a,5)}, f(a) = {round(func(a),5)}, fprime(a) = {round(fprime(a),5)}, e_r = {round(e,5)}\")\n",
    "        n += 1\n",
    "        continue\n",
    "    print()\n",
    "    return\n",
    "\n"
   ]
  },
  {
   "cell_type": "code",
   "execution_count": 40,
   "metadata": {},
   "outputs": [
    {
     "ename": "TypeError",
     "evalue": "'float' object is not callable",
     "output_type": "error",
     "traceback": [
      "\u001b[1;31m---------------------------------------------------------------------------\u001b[0m",
      "\u001b[1;31mTypeError\u001b[0m                                 Traceback (most recent call last)",
      "\u001b[1;32m<ipython-input-40-87e562fced61>\u001b[0m in \u001b[0;36m<module>\u001b[1;34m\u001b[0m\n\u001b[1;32m----> 1\u001b[1;33m \u001b[0mNewtonRaphson\u001b[0m\u001b[1;33m(\u001b[0m\u001b[1;36m100\u001b[0m\u001b[1;33m,\u001b[0m \u001b[1;36m3.98\u001b[0m\u001b[1;33m,\u001b[0m \u001b[1;36m0.05\u001b[0m\u001b[1;33m)\u001b[0m\u001b[1;33m\u001b[0m\u001b[1;33m\u001b[0m\u001b[0m\n\u001b[0m",
      "\u001b[1;32m<ipython-input-39-408dfe6b08fa>\u001b[0m in \u001b[0;36mNewtonRaphson\u001b[1;34m(N, a0, er)\u001b[0m\n\u001b[0;32m      4\u001b[0m     \u001b[0ma\u001b[0m \u001b[1;33m=\u001b[0m \u001b[0ma0\u001b[0m\u001b[1;33m\u001b[0m\u001b[1;33m\u001b[0m\u001b[0m\n\u001b[0;32m      5\u001b[0m     \u001b[0maOld\u001b[0m \u001b[1;33m=\u001b[0m \u001b[1;36m0\u001b[0m\u001b[1;33m\u001b[0m\u001b[1;33m\u001b[0m\u001b[0m\n\u001b[1;32m----> 6\u001b[1;33m     \u001b[0mprint\u001b[0m\u001b[1;33m(\u001b[0m\u001b[1;34mf\"It {0}, an = {round(a0,5)}, f(a) = {round(func(a),5)}, fprime(a) = {round(fprime(a),5)}, e_r = {round(e,5)}\"\u001b[0m\u001b[1;33m)\u001b[0m\u001b[1;33m\u001b[0m\u001b[1;33m\u001b[0m\u001b[0m\n\u001b[0m\u001b[0;32m      7\u001b[0m     \u001b[1;32mwhile\u001b[0m \u001b[1;33m(\u001b[0m\u001b[0mabs\u001b[0m\u001b[1;33m(\u001b[0m\u001b[0me\u001b[0m\u001b[1;33m)\u001b[0m \u001b[1;33m>\u001b[0m \u001b[0mer\u001b[0m\u001b[1;33m)\u001b[0m \u001b[1;32mand\u001b[0m \u001b[1;33m(\u001b[0m\u001b[0mn\u001b[0m \u001b[1;33m<\u001b[0m \u001b[0mN\u001b[0m\u001b[1;33m)\u001b[0m\u001b[1;33m:\u001b[0m \u001b[1;31m#two limits in case the algorithm diverges\u001b[0m\u001b[1;33m\u001b[0m\u001b[1;33m\u001b[0m\u001b[0m\n\u001b[0;32m      8\u001b[0m         \u001b[0maOld\u001b[0m \u001b[1;33m=\u001b[0m \u001b[0ma\u001b[0m\u001b[1;33m\u001b[0m\u001b[1;33m\u001b[0m\u001b[0m\n",
      "\u001b[1;32m<ipython-input-38-bdb80033a268>\u001b[0m in \u001b[0;36mfprime\u001b[1;34m(a)\u001b[0m\n\u001b[0;32m      1\u001b[0m \u001b[1;31m# derivative of f(x)\u001b[0m\u001b[1;33m\u001b[0m\u001b[1;33m\u001b[0m\u001b[1;33m\u001b[0m\u001b[0m\n\u001b[0;32m      2\u001b[0m \u001b[1;32mdef\u001b[0m \u001b[0mfprime\u001b[0m\u001b[1;33m(\u001b[0m\u001b[0ma\u001b[0m\u001b[1;33m)\u001b[0m\u001b[1;33m:\u001b[0m\u001b[1;33m\u001b[0m\u001b[1;33m\u001b[0m\u001b[0m\n\u001b[1;32m----> 3\u001b[1;33m     \u001b[1;32mreturn\u001b[0m \u001b[1;36m2\u001b[0m\u001b[1;33m*\u001b[0m\u001b[0mnp\u001b[0m\u001b[1;33m.\u001b[0m\u001b[0mpi\u001b[0m\u001b[1;33m*\u001b[0m\u001b[0ma\u001b[0m\u001b[1;33m(\u001b[0m\u001b[1;33m(\u001b[0m\u001b[1;36m6\u001b[0m\u001b[1;33m-\u001b[0m\u001b[0ma\u001b[0m\u001b[1;33m)\u001b[0m\u001b[1;33m/\u001b[0m\u001b[1;36m3\u001b[0m\u001b[1;33m)\u001b[0m \u001b[1;33m-\u001b[0m \u001b[0mnp\u001b[0m\u001b[1;33m.\u001b[0m\u001b[0mpi\u001b[0m\u001b[1;33m*\u001b[0m\u001b[1;33m(\u001b[0m\u001b[0ma\u001b[0m\u001b[1;33m**\u001b[0m\u001b[1;36m2\u001b[0m\u001b[1;33m)\u001b[0m\u001b[1;33m/\u001b[0m\u001b[1;36m3\u001b[0m\u001b[1;33m\u001b[0m\u001b[1;33m\u001b[0m\u001b[0m\n\u001b[0m",
      "\u001b[1;31mTypeError\u001b[0m: 'float' object is not callable"
     ]
    }
   ],
   "source": [
    "NewtonRaphson(100, 3.98, 0.05)"
   ]
  },
  {
   "cell_type": "code",
   "execution_count": 14,
   "metadata": {
    "scrolled": true
   },
   "outputs": [],
   "source": [
    "def NewtonRaphsonOptimisation(N,a0,er, h_true):\n",
    "\n",
    "    e, n = 1e6, 1\n",
    "    a = a0\n",
    "    aOld = 0\n",
    "    h = 0\n",
    "    print(f\"It {0}, an = {round(a0,5)}, func(a) = {round(func(a),5)}, fprime(a) = {round(fprime(a),5)}, h = {round(h,5)}, e_r = {round(e,5)}\")\n",
    "    while (abs(e) > er) and (n < N): #two limits in case the algorithm diverges\n",
    "        aOld = a\n",
    "        a -= (func(a) / fprime(a))\n",
    "        h = (1-a)/6\n",
    "        e = ((h-h_true)/h_true)*100\n",
    "        print(f\"It {n}, an = {round(a,5)}, func(a) = {round(func(a),5)}, fprime(a) = {round(fprime(a),5)}, h = {round(h,5)} e_r = {round(e,5)}\")\n",
    "        n += 1\n",
    "        continue\n",
    "    print()\n",
    "    return\n",
    "\n"
   ]
  },
  {
   "cell_type": "code",
   "execution_count": 15,
   "metadata": {},
   "outputs": [
    {
     "name": "stdout",
     "output_type": "stream",
     "text": [
      "It 0, an = 1, func(a) = -12, fprime(a) = -28, h = 0, e_r = 1000000.0\n",
      "It 1, an = 0.57143, func(a) = -3.77843, fprime(a) = -11.83673, h = 0.07143 e_r = -57.14286\n",
      "It 2, an = 0.25222, func(a) = -1.13722, fprime(a) = -5.52672, h = 0.12463 e_r = -25.22167\n",
      "It 3, an = 0.04645, func(a) = -0.1866, fprime(a) = -4.05178, h = 0.15893 e_r = -4.64488\n",
      "It 4, an = 0.0004, func(a) = -0.00158, fprime(a) = -4.0, h = 0.1666 e_r = -0.03957\n",
      "\n"
     ]
    }
   ],
   "source": [
    "NewtonRaphsonOptimisation(100, 1, 0.05, 1/6)\n",
    "# (iterations, starting x value, relative error percentage, true h value for optimisation)"
   ]
  },
  {
   "cell_type": "code",
   "execution_count": 17,
   "metadata": {
    "scrolled": true
   },
   "outputs": [
    {
     "name": "stdout",
     "output_type": "stream",
     "text": [
      "It 1, h = 2, e_r = -0.56674\n",
      "It 2, h = 1.27653, e_r = -0.32497\n",
      "It 3, h = 0.96344, e_r = -0.49948\n",
      "It 4, h = 0.64252, e_r = -0.58997\n",
      "It 5, h = 0.40411, e_r = -0.98636\n",
      "It 6, h = 0.20344, e_r = -2.20511\n",
      "It 7, h = 0.06347, e_r = -9.28203\n",
      "It 8, h = 0.00617, e_r = -113.1105\n",
      "It 9, h = 5e-05, e_r = -13006.08912\n",
      "It 10, h = 0.0, e_r = -170825968.21712\n"
     ]
    },
    {
     "ename": "ZeroDivisionError",
     "evalue": "float division by zero",
     "output_type": "error",
     "traceback": [
      "\u001b[1;31m---------------------------------------------------------------------------\u001b[0m",
      "\u001b[1;31mZeroDivisionError\u001b[0m                         Traceback (most recent call last)",
      "\u001b[1;32m<ipython-input-17-34dfbc73bcfe>\u001b[0m in \u001b[0;36m<module>\u001b[1;34m\u001b[0m\n\u001b[0;32m     24\u001b[0m \u001b[0mplt\u001b[0m\u001b[1;33m.\u001b[0m\u001b[0mplot\u001b[0m\u001b[1;33m(\u001b[0m\u001b[0mXrange\u001b[0m\u001b[1;33m,\u001b[0m \u001b[0mfunc\u001b[0m\u001b[1;33m(\u001b[0m\u001b[0mXrange\u001b[0m\u001b[1;33m)\u001b[0m\u001b[1;33m,\u001b[0m \u001b[1;34m\"c-\"\u001b[0m\u001b[1;33m)\u001b[0m\u001b[1;33m\u001b[0m\u001b[1;33m\u001b[0m\u001b[0m\n\u001b[0;32m     25\u001b[0m \u001b[1;33m\u001b[0m\u001b[0m\n\u001b[1;32m---> 26\u001b[1;33m \u001b[0mSecant\u001b[0m\u001b[1;33m(\u001b[0m\u001b[1;36m100\u001b[0m\u001b[1;33m,\u001b[0m\u001b[1;36m2\u001b[0m\u001b[1;33m,\u001b[0m \u001b[1;36m0.01\u001b[0m\u001b[1;33m)\u001b[0m\u001b[1;33m\u001b[0m\u001b[1;33m\u001b[0m\u001b[0m\n\u001b[0m\u001b[0;32m     27\u001b[0m \u001b[1;31m##Secant(100,2*1.99, 0.01)\u001b[0m\u001b[1;33m\u001b[0m\u001b[1;33m\u001b[0m\u001b[1;33m\u001b[0m\u001b[0m\n\u001b[0;32m     28\u001b[0m \u001b[1;33m\u001b[0m\u001b[0m\n",
      "\u001b[1;32m<ipython-input-17-34dfbc73bcfe>\u001b[0m in \u001b[0;36mSecant\u001b[1;34m(N, h0, er)\u001b[0m\n\u001b[0;32m     12\u001b[0m         \u001b[0mf\u001b[0m\u001b[1;33m,\u001b[0m \u001b[0mfOld\u001b[0m \u001b[1;33m=\u001b[0m \u001b[0mfunc\u001b[0m\u001b[1;33m(\u001b[0m\u001b[0mh\u001b[0m\u001b[1;33m)\u001b[0m\u001b[1;33m,\u001b[0m \u001b[0mf\u001b[0m\u001b[1;33m\u001b[0m\u001b[1;33m\u001b[0m\u001b[0m\n\u001b[0;32m     13\u001b[0m \u001b[1;33m\u001b[0m\u001b[0m\n\u001b[1;32m---> 14\u001b[1;33m         \u001b[0me\u001b[0m \u001b[1;33m=\u001b[0m \u001b[1;33m(\u001b[0m\u001b[0mh\u001b[0m\u001b[1;33m-\u001b[0m\u001b[0mhOld\u001b[0m\u001b[1;33m)\u001b[0m\u001b[1;33m/\u001b[0m\u001b[0mh\u001b[0m\u001b[1;33m\u001b[0m\u001b[1;33m\u001b[0m\u001b[0m\n\u001b[0m\u001b[0;32m     15\u001b[0m \u001b[1;33m\u001b[0m\u001b[0m\n\u001b[0;32m     16\u001b[0m         \u001b[0mprint\u001b[0m\u001b[1;33m(\u001b[0m\u001b[1;34mf\"It {n}, h = {round(hOld,5)}, e_r = {round(e,5)}\"\u001b[0m\u001b[1;33m)\u001b[0m\u001b[1;33m\u001b[0m\u001b[1;33m\u001b[0m\u001b[0m\n",
      "\u001b[1;31mZeroDivisionError\u001b[0m: float division by zero"
     ]
    },
    {
     "data": {
      "image/png": "[encoded data removed]",
      "text/plain": [
       "<Figure size 432x288 with 1 Axes>"
      ]
     },
     "metadata": {
      "needs_background": "light"
     },
     "output_type": "display_data"
    }
   ],
   "source": [
    "def Secant(N,h0,er):\n",
    "\n",
    "    e, n = 1e6, 1\n",
    "    h, hOld = h0, h0 - 0.01\n",
    "    f, fOld = func(h), func(hOld)\n",
    "    \n",
    "    while (abs(e) > er) and (n < N):\n",
    "\n",
    "        plt.plot([h,hOld],[f,fOld],\"k-\")\n",
    "        \n",
    "        h, hOld = h - func(h)*(hOld - h) / (fOld - f) , h\n",
    "        f, fOld = func(h), f\n",
    "        \n",
    "        e = (h-hOld)/h\n",
    "        \n",
    "        print(f\"It {n}, h = {round(hOld,5)}, e_r = {round(e,5)}\")\n",
    "        n += 1\n",
    "        continue\n",
    "    print()\n",
    "    return\n",
    "\n",
    "Xrange = np.linspace(0,6,100)\n",
    "plt.plot([0,4],[0,0],\"y-\")\n",
    "plt.plot(Xrange, func(Xrange), \"c-\")\n",
    "\n",
    "Secant(100,2, 0.01)\n",
    "##Secant(100,2*1.99, 0.01)\n",
    "\n",
    "plt.show()"
   ]
  },
  {
   "cell_type": "code",
   "execution_count": null,
   "metadata": {},
   "outputs": [],
   "source": []
  }
 ],
 "metadata": {
  "kernelspec": {
   "display_name": "Python 3",
   "language": "python",
   "name": "python3"
  },
  "language_info": {
   "codemirror_mode": {
    "name": "ipython",
    "version": 3
   },
   "file_extension": ".py",
   "mimetype": "text/x-python",
   "name": "python",
   "nbconvert_exporter": "python",
   "pygments_lexer": "ipython3",
   "version": "3.7.1"
  }
 },
 "nbformat": 4,
 "nbformat_minor": 2
}
