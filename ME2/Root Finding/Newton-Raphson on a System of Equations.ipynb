{
 "cells": [
  {
   "cell_type": "code",
   "execution_count": 1,
   "metadata": {
    "scrolled": true
   },
   "outputs": [
    {
     "name": "stdout",
     "output_type": "stream",
     "text": [
      "It 1, xnVec = [[2]\n",
      " [3]], e_r = 0.33333\n",
      "It 2, xnVec = [[0.5]\n",
      " [4.5]], e_r = 0.52941\n",
      "It 3, xnVec = [[1.0625]\n",
      " [3.9375]], e_r = 0.09386\n",
      "It 4, xnVec = [[1.17255]\n",
      " [3.82745]], e_r = 0.00388\n",
      "It 5, xnVec = [[1.17712]\n",
      " [3.82288]], e_r = 1e-05\n",
      "\n",
      "It 1, xnVec = [[3]\n",
      " [2]], e_r = 0.33333\n",
      "It 2, xnVec = [[4.5]\n",
      " [0.5]], e_r = 0.52941\n",
      "It 3, xnVec = [[3.9375]\n",
      " [1.0625]], e_r = 0.09386\n",
      "It 4, xnVec = [[3.82745]\n",
      " [1.17255]], e_r = 0.00388\n",
      "It 5, xnVec = [[3.82288]\n",
      " [1.17712]], e_r = 1e-05\n",
      "\n"
     ]
    }
   ],
   "source": [
    "import numpy as np\n",
    "\n",
    "def func(xnVec): #type in the functions of un and vn\n",
    "    return np.array([[xnVec[0,0]**2 + xnVec[1,0]**2 - 16],[(xnVec[0,0]-4)**2 + (xnVec[1,0]-4)**2 - 8]])\n",
    "\n",
    "def invJac(xnVec): #type in the Jacobian\n",
    "    return np.linalg.inv(np.array([[2*xnVec[0,0],2*xnVec[1,0]],[2*(xnVec[0,0]-4),2*(xnVec[1,0]-4)]]))\n",
    "\n",
    "def NewtonRaphson(N,x0,y0,er):\n",
    "\n",
    "    e, n = 1e6, 1\n",
    "\n",
    "    xnVec, xnVecOld = np.array([[x0],[y0]]), np.array([[0],[0]])\n",
    "    \n",
    "    while (abs(e) > er) and (n < N):\n",
    "        \n",
    "        xnVec, xnVecOld = xnVec - np.matmul(invJac(xnVec),func(xnVec)) , xnVec\n",
    "        \n",
    "        e = max([(xnVec[0,0]-xnVecOld[0,0])/xnVec[0,0] , (xnVec[1,0]-xnVecOld[1,0])/xnVec[1,0]])\n",
    "        \n",
    "        print(f\"It {n}, xnVec = {np.round(xnVecOld,5)}, e_r = {round(e,5)}\")\n",
    "        n += 1\n",
    "        continue\n",
    "    print()\n",
    "    return\n",
    "\n",
    "\n",
    "# N is max iterations\n",
    "# x0 is the initial x \n",
    "NewtonRaphson(100,2,3, 0.0001)\n",
    "NewtonRaphson(100,3,2, 0.0001)"
   ]
  },
  {
   "cell_type": "code",
   "execution_count": null,
   "metadata": {},
   "outputs": [],
   "source": []
  }
 ],
 "metadata": {
  "kernelspec": {
   "display_name": "Python 3",
   "language": "python",
   "name": "python3"
  },
  "language_info": {
   "codemirror_mode": {
    "name": "ipython",
    "version": 3
   },
   "file_extension": ".py",
   "mimetype": "text/x-python",
   "name": "python",
   "nbconvert_exporter": "python",
   "pygments_lexer": "ipython3",
   "version": "3.7.1"
  }
 },
 "nbformat": 4,
 "nbformat_minor": 2
}
